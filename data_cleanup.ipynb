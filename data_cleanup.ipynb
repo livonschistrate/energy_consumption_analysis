{
 "cells": [
  {
   "cell_type": "code",
   "execution_count": null,
   "id": "3df178d7",
   "metadata": {},
   "outputs": [],
   "source": [
    "%pip install pandas\n",
    "%pip install pyspark==3.5.0\n",
    "%pip install -q findspark\n",
    "%pip install py4j\n",
    "%pip install pyarrow\n",
    "%pip install numpy"
   ]
  },
  {
   "cell_type": "code",
   "execution_count": 3,
   "id": "c0029f5b",
   "metadata": {},
   "outputs": [],
   "source": [
    "# for local operations\n",
    "import os\n",
    "os.environ['JAVA_HOME'] = \"C:\\\\Program Files\\\\Java\\\\jdk-11\""
   ]
  },
  {
   "cell_type": "code",
   "execution_count": 4,
   "id": "a3f8c7dc",
   "metadata": {},
   "outputs": [],
   "source": [
    "import pandas as pd\n",
    "import findspark\n",
    "findspark.init()\n",
    "findspark.find()\n",
    "import pyspark"
   ]
  },
  {
   "cell_type": "code",
   "execution_count": 5,
   "id": "977487ae",
   "metadata": {},
   "outputs": [
    {
     "data": {
      "text/html": [
       "\n",
       "        <div>\n",
       "            <p><b>SparkContext</b></p>\n",
       "\n",
       "            <p><a href=\"http://host.docker.internal:4040\">Spark UI</a></p>\n",
       "\n",
       "            <dl>\n",
       "              <dt>Version</dt>\n",
       "                <dd><code>v3.5.0</code></dd>\n",
       "              <dt>Master</dt>\n",
       "                <dd><code>local[*]</code></dd>\n",
       "              <dt>AppName</dt>\n",
       "                <dd><code>pyspark-shell</code></dd>\n",
       "            </dl>\n",
       "        </div>\n",
       "        "
      ],
      "text/plain": [
       "<SparkContext master=local[*] appName=pyspark-shell>"
      ]
     },
     "execution_count": 5,
     "metadata": {},
     "output_type": "execute_result"
    }
   ],
   "source": [
    "from pyspark import SparkConf\n",
    "from pyspark.context import SparkContext\n",
    "\n",
    "sc = SparkContext.getOrCreate(SparkConf().setMaster(\"local[*]\"))\n",
    "sc"
   ]
  },
  {
   "cell_type": "code",
   "execution_count": 6,
   "id": "2b503dc4",
   "metadata": {},
   "outputs": [
    {
     "data": {
      "text/html": [
       "\n",
       "            <div>\n",
       "                <p><b>SparkSession - in-memory</b></p>\n",
       "                \n",
       "        <div>\n",
       "            <p><b>SparkContext</b></p>\n",
       "\n",
       "            <p><a href=\"http://host.docker.internal:4040\">Spark UI</a></p>\n",
       "\n",
       "            <dl>\n",
       "              <dt>Version</dt>\n",
       "                <dd><code>v3.5.0</code></dd>\n",
       "              <dt>Master</dt>\n",
       "                <dd><code>local[*]</code></dd>\n",
       "              <dt>AppName</dt>\n",
       "                <dd><code>pyspark-shell</code></dd>\n",
       "            </dl>\n",
       "        </div>\n",
       "        \n",
       "            </div>\n",
       "        "
      ],
      "text/plain": [
       "<pyspark.sql.session.SparkSession at 0x1e7cfc8b080>"
      ]
     },
     "execution_count": 6,
     "metadata": {},
     "output_type": "execute_result"
    }
   ],
   "source": [
    "from pyspark.sql import SparkSession\n",
    "spark = SparkSession.builder \\\n",
    "    .master(\"local[*]\")  \\\n",
    "    .getOrCreate()\n",
    "spark"
   ]
  },
  {
   "cell_type": "markdown",
   "id": "565370ce",
   "metadata": {},
   "source": [
    "Tip: In Google Colab, it is possible to read the entire folder content just by specifying its name, however, this doesn't work locally - you have to add `*` at the end of the path to get all the files or specify a single file. Another difference is that reading the whole dataset is much quickier on Colab (around a minute) than on the local machine. "
   ]
  },
  {
   "cell_type": "code",
   "execution_count": 6,
   "id": "390be13f",
   "metadata": {},
   "outputs": [
    {
     "data": {
      "text/plain": [
       "[('file:/c:/Users/liviu/Documents/fiipractic/big-data/project/project_data/project/customer_tariff/json/part-00000-44d37ba9-fccd-40f4-b939-d8b47af99c95-c000.json',\n",
       "  '{\"contract_id\":\"04_02_111_CHR39\",\"target_local_start_timestamp\":\"2022-12-01T00:00:00.000Z\",\"target_local_end_timestamp\":\"2023-02-16T00:00:00.000Z\",\"tariff_name\":\"Electric Constant\",\"charge_type\":\"buy\",\"price\":0.1166}\\n{\"contract_id\":\"04_02_111_CHR39\",\"target_local_start_timestamp\":\"2023-02-16T00:00:00.000Z\",\"target_local_end_timestamp\":\"2024-05-19T00:00:00.000Z\",\"tariff_name\":\"Electric Constant\",\"charge_type\":\"buy\",\"price\":0.1797}\\n{\"contract_id\":\"04_02_111_CHR39\",\"target_local_start_timestamp\":\"2024-05-19T00:00:00.000Z\",\"target_local_end_timestamp\":\"2024-08-31T00:00:00.000Z\",\"tariff_name\":\"Eco Electric\",\"charge_type\":\"buy\",\"price\":0.1911}\\n{\"contract_id\":\"04_02_111_CHR39\",\"target_local_start_timestamp\":\"2024-08-31T00:00:00.000Z\",\"target_local_end_timestamp\":\"2024-10-09T00:00:00.000Z\",\"tariff_name\":\"Electric Constant\",\"charge_type\":\"buy\",\"price\":0.1938}\\n{\"contract_id\":\"04_02_111_CHR39\",\"target_local_start_timestamp\":\"2024-10-09T00:00:00.000Z\",\"target_local_end_timestamp\":\"2024-11-09T00:00:00.000Z\",\"tariff_name\":\"Eco Electric\",\"charge_type\":\"buy\",\"price\":0.201}\\n{\"contract_id\":\"04_02_111_CHR39\",\"target_local_start_timestamp\":\"2024-11-09T00:00:00.000Z\",\"target_local_end_timestamp\":\"2024-12-11T00:00:00.000Z\",\"tariff_name\":\"Digital Electric\",\"charge_type\":\"buy\",\"price\":0.2447}\\n{\"contract_id\":\"04_02_111_CHR39\",\"target_local_start_timestamp\":\"2024-12-11T00:00:00.000Z\",\"target_local_end_timestamp\":\"2025-01-01T00:00:00.000Z\",\"tariff_name\":\"Digital Electric\",\"charge_type\":\"buy\",\"price\":0.2726}\\n{\"contract_id\":\"04_02_111_CHR39\",\"target_local_start_timestamp\":\"2022-12-01T00:00:00.000Z\",\"target_local_end_timestamp\":\"2023-02-16T00:00:00.000Z\",\"tariff_name\":\"SState\",\"charge_type\":\"sell\",\"price\":0.0661}\\n{\"contract_id\":\"04_02_111_CHR39\",\"target_local_start_timestamp\":\"2023-02-16T00:00:00.000Z\",\"target_local_end_timestamp\":\"2024-05-19T00:00:00.000Z\",\"tariff_name\":\"OpCom\",\"charge_type\":\"sell\",\"price\":0.0846}\\n{\"contract_id\":\"04_02_111_CHR39\",\"target_local_start_timestamp\":\"2024-05-19T00:00:00.000Z\",\"target_local_end_timestamp\":\"2024-08-31T00:00:00.000Z\",\"tariff_name\":\"OpCom\",\"charge_type\":\"sell\",\"price\":0.0793}\\n{\"contract_id\":\"04_02_111_CHR39\",\"target_local_start_timestamp\":\"2024-08-31T00:00:00.000Z\",\"target_local_end_timestamp\":\"2024-10-09T00:00:00.000Z\",\"tariff_name\":\"OpCom\",\"charge_type\":\"sell\",\"price\":0.073}\\n{\"contract_id\":\"04_02_111_CHR39\",\"target_local_start_timestamp\":\"2024-10-09T00:00:00.000Z\",\"target_local_end_timestamp\":\"2024-11-09T00:00:00.000Z\",\"tariff_name\":\"OpCom\",\"charge_type\":\"sell\",\"price\":0.0608}\\n{\"contract_id\":\"04_02_111_CHR39\",\"target_local_start_timestamp\":\"2024-11-09T00:00:00.000Z\",\"target_local_end_timestamp\":\"2024-12-11T00:00:00.000Z\",\"tariff_name\":\"EctoGrid\",\"charge_type\":\"sell\",\"price\":0.062}\\n{\"contract_id\":\"04_02_111_CHR39\",\"target_local_start_timestamp\":\"2024-12-11T00:00:00.000Z\",\"target_local_end_timestamp\":\"2025-01-01T00:00:00.000Z\",\"tariff_name\":\"SState\",\"charge_type\":\"sell\",\"price\":0.0978}\\n{\"contract_id\":\"01_03_155_CHR97\",\"target_local_start_timestamp\":\"2022-12-01T00:00:00.000Z\",\"target_local_end_timestamp\":\"2023-03-03T00:00:00.000Z\",\"tariff_name\":\"Electric Pro\",\"charge_type\":\"buy\",\"price\":0.242}\\n{\"contract_id\":\"01_03_155_CHR97\",\"target_local_start_timestamp\":\"2023-03-03T00:00:00.000Z\",\"target_local_end_timestamp\":\"2024-07-01T00:00:00.000Z\",\"tariff_name\":\"Electric Constant\",\"charge_type\":\"buy\",\"price\":0.1661}\\n{\"contract_id\":\"01_03_155_CHR97\",\"target_local_start_timestamp\":\"2024-07-01T00:00:00.000Z\",\"target_local_end_timestamp\":\"2024-10-20T00:00:00.000Z\",\"tariff_name\":\"Eco Electric\",\"charge_type\":\"buy\",\"price\":0.2307}\\n{\"contract_id\":\"01_03_155_CHR97\",\"target_local_start_timestamp\":\"2024-10-20T00:00:00.000Z\",\"target_local_end_timestamp\":\"2024-11-30T00:00:00.000Z\",\"tariff_name\":\"Business Electric\",\"charge_type\":\"buy\",\"price\":0.1854}\\n{\"contract_id\":\"01_03_155_CHR97\",\"target_local_start_timestamp\":\"2024-11-30T00:00:00.000Z\",\"target_local_end_timestamp\":\"2025-01-01T00:00:00.000Z\",\"tariff_name\":\"Electric Optim\",\"charge_type\":\"buy\",\"price\":0.2541}\\n{\"contract_id\":\"01_03_155_CHR97\",\"target_local_start_timestamp\":\"2022-12-01T00:00:00.000Z\",\"target_local_end_timestamp\":\"2023-02-16T00:00:00.000Z\",\"tariff_name\":\"EctoGrid\",\"charge_type\":\"sell\",\"price\":0.0386}\\n{\"contract_id\":\"01_03_155_CHR97\",\"target_local_start_timestamp\":\"2023-02-16T00:00:00.000Z\",\"target_local_end_timestamp\":\"2024-06-04T00:00:00.000Z\",\"tariff_name\":\"SState\",\"charge_type\":\"sell\",\"price\":0.086}\\n{\"contract_id\":\"01_03_155_CHR97\",\"target_local_start_timestamp\":\"2024-06-04T00:00:00.000Z\",\"target_local_end_timestamp\":\"2024-09-19T00:00:00.000Z\",\"tariff_name\":\"OpCom\",\"charge_type\":\"sell\",\"price\":0.0989}\\n{\"contract_id\":\"01_03_155_CHR97\",\"target_local_start_timestamp\":\"2024-09-19T00:00:00.000Z\",\"target_local_end_timestamp\":\"2024-10-29T00:00:00.000Z\",\"tariff_name\":\"OpCom\",\"charge_type\":\"sell\",\"price\":0.0565}\\n{\"contract_id\":\"01_03_155_CHR97\",\"target_local_start_timestamp\":\"2024-10-29T00:00:00.000Z\",\"target_local_end_timestamp\":\"2024-11-29T00:00:00.000Z\",\"tariff_name\":\"OpCom\",\"charge_type\":\"sell\",\"price\":0.0798}\\n{\"contract_id\":\"01_03_155_CHR97\",\"target_local_start_timestamp\":\"2024-11-29T00:00:00.000Z\",\"target_local_end_timestamp\":\"2025-01-01T00:00:00.000Z\",\"tariff_name\":\"OpCom\",\"charge_type\":\"sell\",\"price\":0.0607}\\n{\"contract_id\":\"10_01_147_CHR30\",\"target_local_start_timestamp\":\"2022-12-01T00:00:00.000Z\",\"target_local_end_timestamp\":\"2023-02-12T00:00:00.000Z\",\"tariff_name\":\"Digital Electric\",\"charge_type\":\"buy\",\"price\":0.2006}\\n{\"contract_id\":\"10_01_147_CHR30\",\"target_local_start_timestamp\":\"2023-02-12T00:00:00.000Z\",\"target_local_end_timestamp\":\"2024-05-01T00:00:00.000Z\",\"tariff_name\":\"Electric Pro\",\"charge_type\":\"buy\",\"price\":0.3075}\\n{\"contract_id\":\"10_01_147_CHR30\",\"target_local_start_timestamp\":\"2024-05-01T00:00:00.000Z\",\"target_local_end_timestamp\":\"2024-08-10T00:00:00.000Z\",\"tariff_name\":\"Digital Electric\",\"charge_type\":\"buy\",\"price\":0.18}\\n{\"contract_id\":\"10_01_147_CHR30\",\"target_local_start_timestamp\":\"2024-08-10T00:00:00.000Z\",\"target_local_end_timestamp\":\"2024-09-18T00:00:00.000Z\",\"tariff_name\":\"Electric Pro\",\"charge_type\":\"buy\",\"price\":0.2811}\\n{\"contract_id\":\"10_01_147_CHR30\",\"target_local_start_timestamp\":\"2024-09-18T00:00:00.000Z\",\"target_local_end_timestamp\":\"2024-10-18T00:00:00.000Z\",\"tariff_name\":\"Digital Electric\",\"charge_type\":\"buy\",\"price\":0.1634}\\n{\"contract_id\":\"10_01_147_CHR30\",\"target_local_start_timestamp\":\"2024-10-18T00:00:00.000Z\",\"target_local_end_timestamp\":\"2024-11-19T00:00:00.000Z\",\"tariff_name\":\"Electric Constant\",\"charge_type\":\"buy\",\"price\":0.2062}\\n{\"contract_id\":\"10_01_147_CHR30\",\"target_local_start_timestamp\":\"2024-11-19T00:00:00.000Z\",\"target_local_end_timestamp\":\"2024-12-09T00:00:00.000Z\",\"tariff_name\":\"Digital Electric\",\"charge_type\":\"buy\",\"price\":0.2169}\\n{\"contract_id\":\"10_01_147_CHR30\",\"target_local_start_timestamp\":\"2024-12-09T00:00:00.000Z\",\"target_local_end_timestamp\":\"2025-01-01T00:00:00.000Z\",\"tariff_name\":\"Electric Loyalty\",\"charge_type\":\"buy\",\"price\":0.3899}\\n{\"contract_id\":\"10_01_147_CHR30\",\"target_local_start_timestamp\":\"2022-12-01T00:00:00.000Z\",\"target_local_end_timestamp\":\"2023-06-12T00:00:00.000Z\",\"tariff_name\":\"SState\",\"charge_type\":\"sell\",\"price\":0.0925}\\n{\"contract_id\":\"10_01_147_CHR30\",\"target_local_start_timestamp\":\"2023-06-12T00:00:00.000Z\",\"target_local_end_timestamp\":\"2025-01-01T00:00:00.000Z\",\"tariff_name\":\"OpCom\",\"charge_type\":\"sell\",\"price\":0.0776}\\n{\"contract_id\":\"04_02_111_CHR47\",\"target_local_start_timestamp\":\"2022-12-01T00:00:00.000Z\",\"target_local_end_timestamp\":\"2025-01-01T00:00:00.000Z\",\"tariff_name\":\"Digital Electric\",\"charge_type\":\"buy\",\"price\":0.2441}\\n{\"contract_id\":\"04_02_111_CHR47\",\"target_local_start_timestamp\":\"2022-12-01T00:00:00.000Z\",\"target_local_end_timestamp\":\"2023-02-16T00:00:00.000Z\",\"tariff_name\":\"OpCom\",\"charge_type\":\"sell\",\"price\":0.0528}\\n{\"contract_id\":\"04_02_111_CHR47\",\"target_local_start_timestamp\":\"2023-02-16T00:00:00.000Z\",\"target_local_end_timestamp\":\"2024-06-04T00:00:00.000Z\",\"tariff_name\":\"EctoGrid\",\"charge_type\":\"sell\",\"price\":0.0769}\\n{\"contract_id\":\"04_02_111_CHR47\",\"target_local_start_timestamp\":\"2024-06-04T00:00:00.000Z\",\"target_local_end_timestamp\":\"2024-09-19T00:00:00.000Z\",\"tariff_name\":\"OpCom\",\"charge_type\":\"sell\",\"price\":0.062}\\n{\"contract_id\":\"04_02_111_CHR47\",\"target_local_start_timestamp\":\"2024-09-19T00:00:00.000Z\",\"target_local_end_timestamp\":\"2024-10-29T00:00:00.000Z\",\"tariff_name\":\"OpCom\",\"charge_type\":\"sell\",\"price\":0.0628}\\n{\"contract_id\":\"04_02_111_CHR47\",\"target_local_start_timestamp\":\"2024-10-29T00:00:00.000Z\",\"target_local_end_timestamp\":\"2024-11-29T00:00:00.000Z\",\"tariff_name\":\"SState\",\"charge_type\":\"sell\",\"price\":0.0799}\\n{\"contract_id\":\"04_02_111_CHR47\",\"target_local_start_timestamp\":\"2024-11-29T00:00:00.000Z\",\"target_local_end_timestamp\":\"2025-01-01T00:00:00.000Z\",\"tariff_name\":\"EctoGrid\",\"charge_type\":\"sell\",\"price\":0.0952}\\n{\"contract_id\":\"10_01_147_CHR09\",\"target_local_start_timestamp\":\"2022-12-01T00:00:00.000Z\",\"target_local_end_timestamp\":\"2023-03-15T00:00:00.000Z\",\"tariff_name\":\"Electric Pro\",\"charge_type\":\"buy\",\"price\":0.2007}\\n{\"contract_id\":\"10_01_147_CHR09\",\"target_local_start_timestamp\":\"2023-03-15T00:00:00.000Z\",\"target_local_end_timestamp\":\"2024-08-25T00:00:00.000Z\",\"tariff_name\":\"Eco Electric\",\"charge_type\":\"buy\",\"price\":0.124}\\n{\"contract_id\":\"10_01_147_CHR09\",\"target_local_start_timestamp\":\"2024-08-25T00:00:00.000Z\",\"target_local_end_timestamp\":\"2025-01-01T00:00:00.000Z\",\"tariff_name\":\"Eco Electric\",\"charge_type\":\"buy\",\"price\":0.2251}\\n{\"contract_id\":\"10_01_147_CHR09\",\"target_local_start_timestamp\":\"2022-12-01T00:00:00.000Z\",\"target_local_end_timestamp\":\"2023-02-16T00:00:00.000Z\",\"tariff_name\":\"EctoGrid\",\"charge_type\":\"sell\",\"price\":0.108}\\n{\"contract_id\":\"10_01_147_CHR09\",\"target_local_start_timestamp\":\"2023-02-16T00:00:00.000Z\",\"target_local_end_timestamp\":\"2024-05-19T00:00:00.000Z\",\"tariff_name\":\"EctoGrid\",\"charge_type\":\"sell\",\"price\":0.0621}\\n{\"contract_id\":\"10_01_147_CHR09\",\"target_local_start_timestamp\":\"2024-05-19T00:00:00.000Z\",\"target_local_end_timestamp\":\"2024-08-31T00:00:00.000Z\",\"tariff_name\":\"SState\",\"charge_type\":\"sell\",\"price\":0.0587}\\n{\"contract_id\":\"10_01_147_CHR09\",\"target_local_start_timestamp\":\"2024-08-31T00:00:00.000Z\",\"target_local_end_timestamp\":\"2024-10-09T00:00:00.000Z\",\"tariff_name\":\"EctoGrid\",\"charge_type\":\"sell\",\"price\":0.0572}\\n{\"contract_id\":\"10_01_147_CHR09\",\"target_local_start_timestamp\":\"2024-10-09T00:00:00.000Z\",\"target_local_end_timestamp\":\"2024-11-09T00:00:00.000Z\",\"tariff_name\":\"EctoGrid\",\"charge_type\":\"sell\",\"price\":0.1048}\\n{\"contract_id\":\"10_01_147_CHR09\",\"target_local_start_timestamp\":\"2024-11-09T00:00:00.000Z\",\"target_local_end_timestamp\":\"2024-12-11T00:00:00.000Z\",\"tariff_name\":\"OpCom\",\"charge_type\":\"sell\",\"price\":0.1229}\\n{\"contract_id\":\"10_01_147_CHR09\",\"target_local_start_timestamp\":\"2024-12-11T00:00:00.000Z\",\"target_local_end_timestamp\":\"2025-01-01T00:00:00.000Z\",\"tariff_name\":\"EctoGrid\",\"charge_type\":\"sell\",\"price\":0.0571}\\n{\"contract_id\":\"10_01_147_CHR1\",\"target_local_start_timestamp\":\"2022-12-01T00:00:00.000Z\",\"target_local_end_timestamp\":\"2023-02-16T00:00:00.000Z\",\"tariff_name\":\"Electric Constant\",\"charge_type\":\"buy\",\"price\":0.2385}\\n{\"contract_id\":\"10_01_147_CHR1\",\"target_local_start_timestamp\":\"2023-02-16T00:00:00.000Z\",\"target_local_end_timestamp\":\"2024-06-04T00:00:00.000Z\",\"tariff_name\":\"Eco Electric\",\"charge_type\":\"buy\",\"price\":0.1654}\\n{\"contract_id\":\"10_01_147_CHR1\",\"target_local_start_timestamp\":\"2024-06-04T00:00:00.000Z\",\"target_local_end_timestamp\":\"2024-09-19T00:00:00.000Z\",\"tariff_name\":\"Electric Pro\",\"charge_type\":\"buy\",\"price\":0.1291}\\n{\"contract_id\":\"10_01_147_CHR1\",\"target_local_start_timestamp\":\"2024-09-19T00:00:00.000Z\",\"target_local_end_timestamp\":\"2024-10-29T00:00:00.000Z\",\"tariff_name\":\"Electric Loyalty\",\"charge_type\":\"buy\",\"price\":0.3775}\\n{\"contract_id\":\"10_01_147_CHR1\",\"target_local_start_timestamp\":\"2024-10-29T00:00:00.000Z\",\"target_local_end_timestamp\":\"2024-11-29T00:00:00.000Z\",\"tariff_name\":\"Eco Electric\",\"charge_type\":\"buy\",\"price\":0.1984}\\n{\"contract_id\":\"10_01_147_CHR1\",\"target_local_start_timestamp\":\"2024-11-29T00:00:00.000Z\",\"target_local_end_timestamp\":\"2025-01-01T00:00:00.000Z\",\"tariff_name\":\"Electric Optim\",\"charge_type\":\"buy\",\"price\":0.2527}\\n{\"contract_id\":\"10_01_147_CHR1\",\"target_local_start_timestamp\":\"2022-12-01T00:00:00.000Z\",\"target_local_end_timestamp\":\"2023-06-12T00:00:00.000Z\",\"tariff_name\":\"OpCom\",\"charge_type\":\"sell\",\"price\":0.0608}\\n{\"contract_id\":\"10_01_147_CHR1\",\"target_local_start_timestamp\":\"2023-06-12T00:00:00.000Z\",\"target_local_end_timestamp\":\"2025-01-01T00:00:00.000Z\",\"tariff_name\":\"SState\",\"charge_type\":\"sell\",\"price\":0.0576}\\n{\"contract_id\":\"10_01_147_CHR21\",\"target_local_start_timestamp\":\"2022-12-01T00:00:00.000Z\",\"target_local_end_timestamp\":\"2023-02-16T00:00:00.000Z\",\"tariff_name\":\"Business Electric\",\"charge_type\":\"buy\",\"price\":0.1869}\\n{\"contract_id\":\"10_01_147_CHR21\",\"target_local_start_timestamp\":\"2023-02-16T00:00:00.000Z\",\"target_local_end_timestamp\":\"2024-06-04T00:00:00.000Z\",\"tariff_name\":\"Electric Optim\",\"charge_type\":\"buy\",\"price\":0.1384}\\n{\"contract_id\":\"10_01_147_CHR21\",\"target_local_start_timestamp\":\"2024-06-04T00:00:00.000Z\",\"target_local_end_timestamp\":\"2024-09-19T00:00:00.000Z\",\"tariff_name\":\"Electric Optim\",\"charge_type\":\"buy\",\"price\":0.1399}\\n{\"contract_id\":\"10_01_147_CHR21\",\"target_local_start_timestamp\":\"2024-09-19T00:00:00.000Z\",\"target_local_end_timestamp\":\"2024-10-29T00:00:00.000Z\",\"tariff_name\":\"Eco Electric\",\"charge_type\":\"buy\",\"price\":0.1536}\\n{\"contract_id\":\"10_01_147_CHR21\",\"target_local_start_timestamp\":\"2024-10-29T00:00:00.000Z\",\"target_local_end_timestamp\":\"2024-11-29T00:00:00.000Z\",\"tariff_name\":\"Business Electric\",\"charge_type\":\"buy\",\"price\":0.4209}\\n{\"contract_id\":\"10_01_147_CHR21\",\"target_local_start_timestamp\":\"2024-11-29T00:00:00.000Z\",\"target_local_end_timestamp\":\"2025-01-01T00:00:00.000Z\",\"tariff_name\":\"Business Electric\",\"charge_type\":\"buy\",\"price\":0.1586}\\n{\"contract_id\":\"10_01_147_CHR21\",\"target_local_start_timestamp\":\"2022-12-01T00:00:00.000Z\",\"target_local_end_timestamp\":\"2025-01-01T00:00:00.000Z\",\"tariff_name\":\"EctoGrid\",\"charge_type\":\"sell\",\"price\":0.093}\\n')]"
      ]
     },
     "execution_count": 6,
     "metadata": {},
     "output_type": "execute_result"
    }
   ],
   "source": [
    "# rdd_csv = sc.wholeTextFiles('project_data/project/raw_time_series/csv')\n",
    "# rdd_csv.collect()\n",
    "\n",
    "rdd_json = sc.wholeTextFiles('project_data/project/customer_tariff/json/part-00000-44d37ba9-fccd-40f4-b939-d8b47af99c95-c000.json')\n",
    "rdd_json.collect()\n",
    "\n",
    "# rdd_parquet = sc.wholeTextFiles('project_data/project/raw_time_series/parquet')\n",
    "# rdd_parquet.collect()"
   ]
  },
  {
   "cell_type": "code",
   "execution_count": 5,
   "id": "9d11d991",
   "metadata": {},
   "outputs": [
    {
     "name": "stdout",
     "output_type": "stream",
     "text": [
      "+-----------+---------------+------+--------------------------+----------------------------+-----------------+\n",
      "|charge_type|    contract_id| price|target_local_end_timestamp|target_local_start_timestamp|      tariff_name|\n",
      "+-----------+---------------+------+--------------------------+----------------------------+-----------------+\n",
      "|        buy|04_02_111_CHR39|0.1166|      2023-02-16T00:00:...|        2022-12-01T00:00:...|Electric Constant|\n",
      "|        buy|04_02_111_CHR39|0.1797|      2024-05-19T00:00:...|        2023-02-16T00:00:...|Electric Constant|\n",
      "|        buy|04_02_111_CHR39|0.1911|      2024-08-31T00:00:...|        2024-05-19T00:00:...|     Eco Electric|\n",
      "|        buy|04_02_111_CHR39|0.1938|      2024-10-09T00:00:...|        2024-08-31T00:00:...|Electric Constant|\n",
      "|        buy|04_02_111_CHR39| 0.201|      2024-11-09T00:00:...|        2024-10-09T00:00:...|     Eco Electric|\n",
      "|        buy|04_02_111_CHR39|0.2447|      2024-12-11T00:00:...|        2024-11-09T00:00:...| Digital Electric|\n",
      "|        buy|04_02_111_CHR39|0.2726|      2025-01-01T00:00:...|        2024-12-11T00:00:...| Digital Electric|\n",
      "|       sell|04_02_111_CHR39|0.0661|      2023-02-16T00:00:...|        2022-12-01T00:00:...|           SState|\n",
      "|       sell|04_02_111_CHR39|0.0846|      2024-05-19T00:00:...|        2023-02-16T00:00:...|            OpCom|\n",
      "|       sell|04_02_111_CHR39|0.0793|      2024-08-31T00:00:...|        2024-05-19T00:00:...|            OpCom|\n",
      "|       sell|04_02_111_CHR39| 0.073|      2024-10-09T00:00:...|        2024-08-31T00:00:...|            OpCom|\n",
      "|       sell|04_02_111_CHR39|0.0608|      2024-11-09T00:00:...|        2024-10-09T00:00:...|            OpCom|\n",
      "|       sell|04_02_111_CHR39| 0.062|      2024-12-11T00:00:...|        2024-11-09T00:00:...|         EctoGrid|\n",
      "|       sell|04_02_111_CHR39|0.0978|      2025-01-01T00:00:...|        2024-12-11T00:00:...|           SState|\n",
      "|        buy|01_03_155_CHR97| 0.242|      2023-03-03T00:00:...|        2022-12-01T00:00:...|     Electric Pro|\n",
      "|        buy|01_03_155_CHR97|0.1661|      2024-07-01T00:00:...|        2023-03-03T00:00:...|Electric Constant|\n",
      "|        buy|01_03_155_CHR97|0.2307|      2024-10-20T00:00:...|        2024-07-01T00:00:...|     Eco Electric|\n",
      "|        buy|01_03_155_CHR97|0.1854|      2024-11-30T00:00:...|        2024-10-20T00:00:...|Business Electric|\n",
      "|        buy|01_03_155_CHR97|0.2541|      2025-01-01T00:00:...|        2024-11-30T00:00:...|   Electric Optim|\n",
      "|       sell|01_03_155_CHR97|0.0386|      2023-02-16T00:00:...|        2022-12-01T00:00:...|         EctoGrid|\n",
      "+-----------+---------------+------+--------------------------+----------------------------+-----------------+\n",
      "only showing top 20 rows\n",
      "\n"
     ]
    }
   ],
   "source": [
    "# df_csv = spark.read.format('csv') \\\n",
    "#     .option('header', 'true') \\\n",
    "#     .load('project_data/project/raw_time_series/csv/part-00000-79a1db9d-9c38-4283-94cb-89c1f27d8d3f-c000.csv')\n",
    "# df_csv.show()\n",
    "\n",
    "df_json = spark.read.format('json') \\\n",
    "    .load('project_data/project/customer_tariff/json/part-00000-44d37ba9-fccd-40f4-b939-d8b47af99c95-c000.json')\n",
    "df_json.show()\n",
    "\n",
    "# df_parquet = spark.read.format('parquet') \\\n",
    "#     .load('project_data/project/raw_time_series/parquet/*')\n",
    "# df_parquet.show()"
   ]
  },
  {
   "cell_type": "code",
   "execution_count": 13,
   "id": "0cfb3af6",
   "metadata": {},
   "outputs": [
    {
     "name": "stdout",
     "output_type": "stream",
     "text": [
      "+--------------------+--------------------+--------------------+-------------------+------------+\n",
      "|         annotations|         contract_id|           timestamp|              value|value_source|\n",
      "+--------------------+--------------------+--------------------+-------------------+------------+\n",
      "|{\"region\":\"Europe...|  04 _02 _111 _CHR12|2023-01-01T01:15:...|0.01887007418980177| measurement|\n",
      "|{\"region\":\"Europe...|  04_02 _ 111 _CHR12|2023-01-01T14:15:...|           1.266225| measurement|\n",
      "|{\"region\":\"Europe...|  04_02_ 111 _CHR12 |2023-01-01T21:45:...|               NULL| measurement|\n",
      "|{\"region\":\"Europe...|  04 _02 _111 _CHR12|2023-01-02T01:30:...|0.02093419915470171| measurement|\n",
      "|{\"region\":\"Europe...|   04 _02_111_CHR12 |2023-01-02T07:45:...| 0.0142526590154003| measurement|\n",
      "|{\"region\":\"Europe...|  04_02 _ 111 _CHR12|2023-01-02T16:45:...|0.07874463371047623| measurement|\n",
      "|{\"region\":\"Europe...|   04 _02_111_CHR12 |2023-01-02T22:45:...| 0.1950477376343327| measurement|\n",
      "|{\"region\":\"Europe...|  04_02_ 111 _CHR12 |2023-01-02T23:00:...| 0.1494432740331963| measurement|\n",
      "|{\"region\":\"Europe...|   04 _02_111_CHR12 |2023-01-03T00:30:...|0.03338189045759885| measurement|\n",
      "|{\"region\":\"Europe...|  04_02 _ 111 _CHR12|2023-01-03T01:00:...|0.03238495668261926| measurement|\n",
      "|{\"region\":\"Europe...|  04_02 _ 111 _CHR12|2023-01-03T01:30:...| 0.0220772184365469| measurement|\n",
      "|{\"region\":\"Europe...| 04 _ 02 _ 111 _C...|2023-01-03T08:00:...|0.03501051495845486| measurement|\n",
      "|{\"region\":\"Europe...|  04_02_ 111 _CHR12 |2023-01-03T16:28:...| 0.2023866001685278| measurement|\n",
      "|{\"region\":\"Europe...|   04 _02_111_CHR12 |2023-01-04T08:30:...|0.01429780300596091| measurement|\n",
      "|{\"region\":\"Europe...|   04 _02_111_CHR12 |2023-01-04T12:15:...|           0.203275| measurement|\n",
      "|{\"region\":\"Europe...|  04_02 _ 111 _CHR12|2023-01-04T17:45:...|0.06086449749735329| measurement|\n",
      "|{\"region\":\"Europe...|  04_02 _ 111 _CHR12|2023-01-04T19:00:...|0.02026097623283609| measurement|\n",
      "|{\"region\":\"Europe...|  04_02 _ 111 _CHR12|2023-01-04T21:45:...| 0.3660749980000229| measurement|\n",
      "|{\"region\":\"Europe...|  04_02_ 111 _CHR12 |2023-01-05T00:00:...|0.04851590576044357| measurement|\n",
      "|{\"region\":\"Europe...|   04 _02_111_CHR12 |2023-01-05T01:45:...|0.03939362031461627| measurement|\n",
      "+--------------------+--------------------+--------------------+-------------------+------------+\n",
      "only showing top 20 rows\n",
      "\n"
     ]
    }
   ],
   "source": [
    "from pyspark.sql import types as T\n",
    "\n",
    "data_schema = T.StructType([\n",
    "    T.StructField('annotations', T.StringType(), True),\n",
    "    T.StructField('contract_id', T.StringType(), True),\n",
    "    T.StructField('timestamp', T.StringType(), True),\n",
    "    T.StructField('value', T.DoubleType(), True),\n",
    "    T.StructField('value_source', T.StringType(), True)\n",
    "])\n",
    "\n",
    "df_raw_time_series = spark.read.format('json') \\\n",
    "    .schema(data_schema) \\\n",
    "    .load('project_data/project/raw_time_series/json/part-00000-3992c3d5-97c8-4e7d-8328-b7c8379135e8-c000.json')\n",
    "df_raw_time_series.show()"
   ]
  },
  {
   "cell_type": "code",
   "execution_count": 14,
   "id": "c4f6681f",
   "metadata": {},
   "outputs": [
    {
     "name": "stdout",
     "output_type": "stream",
     "text": [
      "+-----------+---------------+------+----------------------------+--------------------------+-----------------+\n",
      "|charge_type|    contract_id| price|target_local_start_timestamp|target_local_end_timestamp|      tariff_name|\n",
      "+-----------+---------------+------+----------------------------+--------------------------+-----------------+\n",
      "|        buy|04_02_111_CHR39|0.1166|        2022-12-01T00:00:...|      2023-02-16T00:00:...|Electric Constant|\n",
      "|        buy|04_02_111_CHR39|0.1797|        2023-02-16T00:00:...|      2024-05-19T00:00:...|Electric Constant|\n",
      "|        buy|04_02_111_CHR39|0.1911|        2024-05-19T00:00:...|      2024-08-31T00:00:...|     Eco Electric|\n",
      "|        buy|04_02_111_CHR39|0.1938|        2024-08-31T00:00:...|      2024-10-09T00:00:...|Electric Constant|\n",
      "|        buy|04_02_111_CHR39| 0.201|        2024-10-09T00:00:...|      2024-11-09T00:00:...|     Eco Electric|\n",
      "|        buy|04_02_111_CHR39|0.2447|        2024-11-09T00:00:...|      2024-12-11T00:00:...| Digital Electric|\n",
      "|        buy|04_02_111_CHR39|0.2726|        2024-12-11T00:00:...|      2025-01-01T00:00:...| Digital Electric|\n",
      "|       sell|04_02_111_CHR39|0.0661|        2022-12-01T00:00:...|      2023-02-16T00:00:...|           SState|\n",
      "|       sell|04_02_111_CHR39|0.0846|        2023-02-16T00:00:...|      2024-05-19T00:00:...|            OpCom|\n",
      "|       sell|04_02_111_CHR39|0.0793|        2024-05-19T00:00:...|      2024-08-31T00:00:...|            OpCom|\n",
      "|       sell|04_02_111_CHR39| 0.073|        2024-08-31T00:00:...|      2024-10-09T00:00:...|            OpCom|\n",
      "|       sell|04_02_111_CHR39|0.0608|        2024-10-09T00:00:...|      2024-11-09T00:00:...|            OpCom|\n",
      "|       sell|04_02_111_CHR39| 0.062|        2024-11-09T00:00:...|      2024-12-11T00:00:...|         EctoGrid|\n",
      "|       sell|04_02_111_CHR39|0.0978|        2024-12-11T00:00:...|      2025-01-01T00:00:...|           SState|\n",
      "|        buy|01_03_155_CHR97| 0.242|        2022-12-01T00:00:...|      2023-03-03T00:00:...|     Electric Pro|\n",
      "|        buy|01_03_155_CHR97|0.1661|        2023-03-03T00:00:...|      2024-07-01T00:00:...|Electric Constant|\n",
      "|        buy|01_03_155_CHR97|0.2307|        2024-07-01T00:00:...|      2024-10-20T00:00:...|     Eco Electric|\n",
      "|        buy|01_03_155_CHR97|0.1854|        2024-10-20T00:00:...|      2024-11-30T00:00:...|Business Electric|\n",
      "|        buy|01_03_155_CHR97|0.2541|        2024-11-30T00:00:...|      2025-01-01T00:00:...|   Electric Optim|\n",
      "|       sell|01_03_155_CHR97|0.0386|        2022-12-01T00:00:...|      2023-02-16T00:00:...|         EctoGrid|\n",
      "+-----------+---------------+------+----------------------------+--------------------------+-----------------+\n",
      "only showing top 20 rows\n",
      "\n"
     ]
    }
   ],
   "source": [
    "data_schema = T.StructType([\n",
    "    T.StructField('charge_type', T.StringType(), True),\n",
    "    T.StructField('contract_id', T.StringType(), True),\n",
    "    T.StructField('price', T.DoubleType(), True),\n",
    "    T.StructField('target_local_start_timestamp', T.StringType(), True),\n",
    "    T.StructField('target_local_end_timestamp', T.StringType(), True),\n",
    "    T.StructField('tariff_name', T.StringType(), True)\n",
    "])\n",
    "\n",
    "df_raw_time_series = spark.read.format('json') \\\n",
    "    .schema(data_schema) \\\n",
    "    .load('project_data/project/customer_tariff/json/part-00000-44d37ba9-fccd-40f4-b939-d8b47af99c95-c000.json')\n",
    "df_raw_time_series.show()"
   ]
  }
 ],
 "metadata": {
  "kernelspec": {
   "display_name": ".venv",
   "language": "python",
   "name": "python3"
  },
  "language_info": {
   "codemirror_mode": {
    "name": "ipython",
    "version": 3
   },
   "file_extension": ".py",
   "mimetype": "text/x-python",
   "name": "python",
   "nbconvert_exporter": "python",
   "pygments_lexer": "ipython3",
   "version": "3.12.8"
  }
 },
 "nbformat": 4,
 "nbformat_minor": 5
}
