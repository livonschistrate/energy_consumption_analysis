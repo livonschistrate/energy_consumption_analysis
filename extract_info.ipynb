{
  "cells": [
    {
      "cell_type": "code",
      "execution_count": null,
      "metadata": {
        "colab": {
          "base_uri": "https://localhost:8080/"
        },
        "id": "3df178d7",
        "outputId": "105ce8ae-f674-43c5-92f9-f01eaa5bd8e7"
      },
      "outputs": [],
      "source": [
        "%pip install pandas\n",
        "%pip install pyspark==3.5.0\n",
        "%pip install -q findspark\n",
        "%pip install py4j\n",
        "%pip install pyarrow\n",
        "%pip install numpy"
      ]
    },
    {
      "cell_type": "code",
      "execution_count": 1,
      "metadata": {
        "id": "a3f8c7dc"
      },
      "outputs": [],
      "source": [
        "# for local operations\n",
        "import os\n",
        "os.environ['JAVA_HOME'] = \"C:\\\\Program Files\\\\Java\\\\jdk-11\"\n",
        "\n",
        "import pandas as pd\n",
        "from pyspark.sql import functions as f"
      ]
    },
    {
      "cell_type": "code",
      "execution_count": 2,
      "metadata": {
        "colab": {
          "base_uri": "https://localhost:8080/",
          "height": 219
        },
        "id": "2b503dc4",
        "outputId": "58509b3b-8458-48e7-d5a9-c522c07c3057"
      },
      "outputs": [
        {
          "data": {
            "text/html": [
              "\n",
              "            <div>\n",
              "                <p><b>SparkSession - in-memory</b></p>\n",
              "                \n",
              "        <div>\n",
              "            <p><b>SparkContext</b></p>\n",
              "\n",
              "            <p><a href=\"http://host.docker.internal:4041\">Spark UI</a></p>\n",
              "\n",
              "            <dl>\n",
              "              <dt>Version</dt>\n",
              "                <dd><code>v3.5.0</code></dd>\n",
              "              <dt>Master</dt>\n",
              "                <dd><code>local[*]</code></dd>\n",
              "              <dt>AppName</dt>\n",
              "                <dd><code>pyspark-shell</code></dd>\n",
              "            </dl>\n",
              "        </div>\n",
              "        \n",
              "            </div>\n",
              "        "
            ],
            "text/plain": [
              "<pyspark.sql.session.SparkSession at 0x247cf87b380>"
            ]
          },
          "execution_count": 2,
          "metadata": {},
          "output_type": "execute_result"
        }
      ],
      "source": [
        "from pyspark.sql import SparkSession\n",
        "spark = SparkSession.builder \\\n",
        "    .getOrCreate()\n",
        "spark"
      ]
    },
    {
      "cell_type": "code",
      "execution_count": 3,
      "metadata": {
        "colab": {
          "base_uri": "https://localhost:8080/"
        },
        "id": "65b53403",
        "outputId": "938c21b9-ea21-4c93-8179-5eb01225cfb4"
      },
      "outputs": [
        {
          "name": "stdout",
          "output_type": "stream",
          "text": [
            "+--------------------+-------------------+-------------------+------------+--------------------+\n",
            "|         contract_id|          timestamp|              value|value_source|         annotations|\n",
            "+--------------------+-------------------+-------------------+------------+--------------------+\n",
            "|  04 _02 _111 _CHR12|2023-01-01 03:15:00|0.01887007418980177| measurement|{\"region\":\"Europe...|\n",
            "|  04_02 _ 111 _CHR12|2023-01-01 16:15:00|           1.266225| measurement|{\"region\":\"Europe...|\n",
            "|  04_02_ 111 _CHR12 |2023-01-01 23:45:27|               NULL| measurement|{\"region\":\"Europe...|\n",
            "|  04 _02 _111 _CHR12|2023-01-02 03:30:00|0.02093419915470171| measurement|{\"region\":\"Europe...|\n",
            "|   04 _02_111_CHR12 |2023-01-02 09:45:00| 0.0142526590154003| measurement|{\"region\":\"Europe...|\n",
            "|  04_02 _ 111 _CHR12|2023-01-02 18:45:00|0.07874463371047623| measurement|{\"region\":\"Europe...|\n",
            "|   04 _02_111_CHR12 |2023-01-03 00:45:00| 0.1950477376343327| measurement|{\"region\":\"Europe...|\n",
            "|  04_02_ 111 _CHR12 |2023-01-03 01:00:00| 0.1494432740331963| measurement|{\"region\":\"Europe...|\n",
            "|   04 _02_111_CHR12 |2023-01-03 02:30:00|0.03338189045759885| measurement|{\"region\":\"Europe...|\n",
            "|  04_02 _ 111 _CHR12|2023-01-03 03:00:00|0.03238495668261926| measurement|{\"region\":\"Europe...|\n",
            "|  04_02 _ 111 _CHR12|2023-01-03 03:30:00| 0.0220772184365469| measurement|{\"region\":\"Europe...|\n",
            "| 04 _ 02 _ 111 _C...|2023-01-03 10:00:00|0.03501051495845486| measurement|{\"region\":\"Europe...|\n",
            "|  04_02_ 111 _CHR12 |2023-01-03 18:28:16| 0.2023866001685278| measurement|{\"region\":\"Europe...|\n",
            "|   04 _02_111_CHR12 |2023-01-04 10:30:00|0.01429780300596091| measurement|{\"region\":\"Europe...|\n",
            "|   04 _02_111_CHR12 |2023-01-04 14:15:00|           0.203275| measurement|{\"region\":\"Europe...|\n",
            "|  04_02 _ 111 _CHR12|2023-01-04 19:45:00|0.06086449749735329| measurement|{\"region\":\"Europe...|\n",
            "|  04_02 _ 111 _CHR12|2023-01-04 21:00:00|0.02026097623283609| measurement|{\"region\":\"Europe...|\n",
            "|  04_02 _ 111 _CHR12|2023-01-04 23:45:00| 0.3660749980000229| measurement|{\"region\":\"Europe...|\n",
            "|  04_02_ 111 _CHR12 |2023-01-05 02:00:00|0.04851590576044357| measurement|{\"region\":\"Europe...|\n",
            "|   04 _02_111_CHR12 |2023-01-05 03:45:00|0.03939362031461627| measurement|{\"region\":\"Europe...|\n",
            "+--------------------+-------------------+-------------------+------------+--------------------+\n",
            "only showing top 20 rows\n",
            "\n"
          ]
        }
      ],
      "source": [
        "from pyspark.sql import types as T\n",
        "\n",
        "data_schema = T.StructType([\n",
        "    T.StructField('contract_id', T.StringType(), False),\n",
        "    T.StructField('timestamp', T.TimestampType(), False),\n",
        "    T.StructField('value', T.DoubleType(), True),\n",
        "    T.StructField('value_source', T.StringType(), False),\n",
        "    T.StructField('annotations', T.StringType(), True)\n",
        "])\n",
        "\n",
        "df_raw_time_series = spark.read.format('json') \\\n",
        "    .schema(data_schema) \\\n",
        "    .load('project_data/project/raw_time_series/json/part-00000-3992c3d5-97c8-4e7d-8328-b7c8379135e8-c000.json')\n",
        "df_raw_time_series.show()"
      ]
    },
    {
      "cell_type": "code",
      "execution_count": 4,
      "metadata": {
        "colab": {
          "base_uri": "https://localhost:8080/"
        },
        "id": "JgkyycdkActP",
        "outputId": "f2369038-cc91-4e42-8ce6-4e4358781f73"
      },
      "outputs": [
        {
          "name": "stdout",
          "output_type": "stream",
          "text": [
            "+---------------+----------------------------+--------------------------+-----------------+-----------+------+\n",
            "|    contract_id|target_local_start_timestamp|target_local_end_timestamp|      tariff_name|charge_type| price|\n",
            "+---------------+----------------------------+--------------------------+-----------------+-----------+------+\n",
            "|04_02_111_CHR39|         2022-12-01 02:00:00|       2023-02-16 02:00:00|Electric Constant|        buy|0.1166|\n",
            "|04_02_111_CHR39|         2023-02-16 02:00:00|       2024-05-19 03:00:00|Electric Constant|        buy|0.1797|\n",
            "|04_02_111_CHR39|         2024-05-19 03:00:00|       2024-08-31 03:00:00|     Eco Electric|        buy|0.1911|\n",
            "|04_02_111_CHR39|         2024-08-31 03:00:00|       2024-10-09 03:00:00|Electric Constant|        buy|0.1938|\n",
            "|04_02_111_CHR39|         2024-10-09 03:00:00|       2024-11-09 02:00:00|     Eco Electric|        buy| 0.201|\n",
            "|04_02_111_CHR39|         2024-11-09 02:00:00|       2024-12-11 02:00:00| Digital Electric|        buy|0.2447|\n",
            "|04_02_111_CHR39|         2024-12-11 02:00:00|       2025-01-01 02:00:00| Digital Electric|        buy|0.2726|\n",
            "|04_02_111_CHR39|         2022-12-01 02:00:00|       2023-02-16 02:00:00|           SState|       sell|0.0661|\n",
            "|04_02_111_CHR39|         2023-02-16 02:00:00|       2024-05-19 03:00:00|            OpCom|       sell|0.0846|\n",
            "|04_02_111_CHR39|         2024-05-19 03:00:00|       2024-08-31 03:00:00|            OpCom|       sell|0.0793|\n",
            "|04_02_111_CHR39|         2024-08-31 03:00:00|       2024-10-09 03:00:00|            OpCom|       sell| 0.073|\n",
            "|04_02_111_CHR39|         2024-10-09 03:00:00|       2024-11-09 02:00:00|            OpCom|       sell|0.0608|\n",
            "|04_02_111_CHR39|         2024-11-09 02:00:00|       2024-12-11 02:00:00|         EctoGrid|       sell| 0.062|\n",
            "|04_02_111_CHR39|         2024-12-11 02:00:00|       2025-01-01 02:00:00|           SState|       sell|0.0978|\n",
            "|01_03_155_CHR97|         2022-12-01 02:00:00|       2023-03-03 02:00:00|     Electric Pro|        buy| 0.242|\n",
            "|01_03_155_CHR97|         2023-03-03 02:00:00|       2024-07-01 03:00:00|Electric Constant|        buy|0.1661|\n",
            "|01_03_155_CHR97|         2024-07-01 03:00:00|       2024-10-20 03:00:00|     Eco Electric|        buy|0.2307|\n",
            "|01_03_155_CHR97|         2024-10-20 03:00:00|       2024-11-30 02:00:00|Business Electric|        buy|0.1854|\n",
            "|01_03_155_CHR97|         2024-11-30 02:00:00|       2025-01-01 02:00:00|   Electric Optim|        buy|0.2541|\n",
            "|01_03_155_CHR97|         2022-12-01 02:00:00|       2023-02-16 02:00:00|         EctoGrid|       sell|0.0386|\n",
            "+---------------+----------------------------+--------------------------+-----------------+-----------+------+\n",
            "only showing top 20 rows\n",
            "\n"
          ]
        }
      ],
      "source": [
        "data_schema = T.StructType([\n",
        "    T.StructField('contract_id', T.StringType(), False),\n",
        "    T.StructField('target_local_start_timestamp', T.TimestampType(), False),\n",
        "    T.StructField('target_local_end_timestamp', T.TimestampType(), False),\n",
        "    T.StructField('tariff_name', T.StringType(), True),\n",
        "    T.StructField('charge_type', T.StringType(), False),\n",
        "    T.StructField('price', T.DoubleType(), True)\n",
        "])\n",
        "\n",
        "df_customer_tariff = spark.read.format('json') \\\n",
        "    .schema(data_schema) \\\n",
        "    .load('project_data/project/customer_tariff/json/part-00000-44d37ba9-fccd-40f4-b939-d8b47af99c95-c000.json')\n",
        "df_customer_tariff.show()"
      ]
    },
    {
      "cell_type": "code",
      "execution_count": 5,
      "metadata": {
        "colab": {
          "base_uri": "https://localhost:8080/"
        },
        "id": "2hn9Lq38BXQd",
        "outputId": "7124db02-3276-447b-ebe7-64315e194c25"
      },
      "outputs": [
        {
          "name": "stdout",
          "output_type": "stream",
          "text": [
            "root\n",
            " |-- contract_id: string (nullable = true)\n",
            " |-- timestamp: timestamp (nullable = true)\n",
            " |-- value: double (nullable = true)\n",
            " |-- value_source: string (nullable = true)\n",
            " |-- annotations: string (nullable = true)\n",
            "\n",
            "root\n",
            " |-- contract_id: string (nullable = true)\n",
            " |-- target_local_start_timestamp: timestamp (nullable = true)\n",
            " |-- target_local_end_timestamp: timestamp (nullable = true)\n",
            " |-- tariff_name: string (nullable = true)\n",
            " |-- charge_type: string (nullable = true)\n",
            " |-- price: double (nullable = true)\n",
            "\n"
          ]
        }
      ],
      "source": [
        "df_raw_time_series.printSchema()\n",
        "df_customer_tariff.printSchema()"
      ]
    },
    {
      "cell_type": "markdown",
      "metadata": {
        "id": "sTmd4zmsQDfr"
      },
      "source": [
        "Data clean-up progress - if ruled more than once, all values will be turned to NULL"
      ]
    },
    {
      "cell_type": "code",
      "execution_count": 6,
      "metadata": {
        "colab": {
          "base_uri": "https://localhost:8080/"
        },
        "id": "I9SATXLQJfbO",
        "outputId": "7746a91a-acde-4d24-d19c-b81f71668e62"
      },
      "outputs": [
        {
          "name": "stdout",
          "output_type": "stream",
          "text": [
            "+---------------+----------------+-------------------+------------+--------------------+\n",
            "|    contract_id|       timestamp|              value|value_source|         annotations|\n",
            "+---------------+----------------+-------------------+------------+--------------------+\n",
            "|04_02_111_CHR12|2023-01-01 03:15|0.01887007418980177| measurement|{\"region\":\"Europe...|\n",
            "|04_02_111_CHR12|2023-01-01 16:15|           1.266225| measurement|{\"region\":\"Europe...|\n",
            "|04_02_111_CHR12|2023-01-01 23:45|               NULL|     missing|{\"region\":\"Europe...|\n",
            "|04_02_111_CHR12|2023-01-02 03:30|0.02093419915470171| measurement|{\"region\":\"Europe...|\n",
            "|04_02_111_CHR12|2023-01-02 09:45| 0.0142526590154003| measurement|{\"region\":\"Europe...|\n",
            "|04_02_111_CHR12|2023-01-02 18:45|0.07874463371047623| measurement|{\"region\":\"Europe...|\n",
            "|04_02_111_CHR12|2023-01-03 00:45| 0.1950477376343327| measurement|{\"region\":\"Europe...|\n",
            "|04_02_111_CHR12|2023-01-03 01:00| 0.1494432740331963| measurement|{\"region\":\"Europe...|\n",
            "|04_02_111_CHR12|2023-01-03 02:30|0.03338189045759885| measurement|{\"region\":\"Europe...|\n",
            "|04_02_111_CHR12|2023-01-03 03:00|0.03238495668261926| measurement|{\"region\":\"Europe...|\n",
            "|04_02_111_CHR12|2023-01-03 03:30| 0.0220772184365469| measurement|{\"region\":\"Europe...|\n",
            "|04_02_111_CHR12|2023-01-03 10:00|0.03501051495845486| measurement|{\"region\":\"Europe...|\n",
            "|04_02_111_CHR12|2023-01-03 18:30| 0.2023866001685278| measurement|{\"region\":\"Europe...|\n",
            "|04_02_111_CHR12|2023-01-04 10:30|0.01429780300596091| measurement|{\"region\":\"Europe...|\n",
            "|04_02_111_CHR12|2023-01-04 14:15|           0.203275| measurement|{\"region\":\"Europe...|\n",
            "|04_02_111_CHR12|2023-01-04 19:45|0.06086449749735329| measurement|{\"region\":\"Europe...|\n",
            "|04_02_111_CHR12|2023-01-04 21:00|0.02026097623283609| measurement|{\"region\":\"Europe...|\n",
            "|04_02_111_CHR12|2023-01-04 23:45| 0.3660749980000229| measurement|{\"region\":\"Europe...|\n",
            "|04_02_111_CHR12|2023-01-05 02:00|0.04851590576044357| measurement|{\"region\":\"Europe...|\n",
            "|04_02_111_CHR12|2023-01-05 03:45|0.03939362031461627| measurement|{\"region\":\"Europe...|\n",
            "+---------------+----------------+-------------------+------------+--------------------+\n",
            "only showing top 20 rows\n",
            "\n"
          ]
        }
      ],
      "source": [
        "df_raw_time_series = (\n",
        "    df_raw_time_series\n",
        "    .withColumn('contract_id', f.regexp_replace(f.col('contract_id'), ' ', ''))\n",
        "    .withColumn('value_source', f.when(f.col('value').isNull(), 'missing').otherwise(f.col('value_source')))\n",
        "    .withColumn('timestamp',\n",
        "                f.from_unixtime(f.round(f.unix_timestamp('timestamp') / (15 * 60)) * (15 * 60)))\n",
        "    .withColumn('timestamp',f.date_format('timestamp', 'yyyy-MM-dd HH:mm'))\n",
        ")\n",
        "df_raw_time_series.show()"
      ]
    },
    {
      "cell_type": "code",
      "execution_count": null,
      "metadata": {
        "id": "yV3EoGJVLxIF"
      },
      "outputs": [],
      "source": []
    }
  ],
  "metadata": {
    "colab": {
      "provenance": []
    },
    "kernelspec": {
      "display_name": ".venv",
      "language": "python",
      "name": "python3"
    },
    "language_info": {
      "codemirror_mode": {
        "name": "ipython",
        "version": 3
      },
      "file_extension": ".py",
      "mimetype": "text/x-python",
      "name": "python",
      "nbconvert_exporter": "python",
      "pygments_lexer": "ipython3",
      "version": "3.12.8"
    }
  },
  "nbformat": 4,
  "nbformat_minor": 0
}
