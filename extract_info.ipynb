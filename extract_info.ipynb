{
  "cells": [
    {
      "cell_type": "code",
      "execution_count": null,
      "metadata": {
        "colab": {
          "base_uri": "https://localhost:8080/"
        },
        "id": "3df178d7",
        "outputId": "105ce8ae-f674-43c5-92f9-f01eaa5bd8e7"
      },
      "outputs": [],
      "source": [
        "%pip install pandas\n",
        "%pip install pyspark==3.5.0\n",
        "%pip install -q findspark\n",
        "%pip install py4j\n",
        "%pip install pyarrow\n",
        "%pip install numpy"
      ]
    },
    {
      "cell_type": "code",
      "execution_count": 1,
      "metadata": {
        "id": "a3f8c7dc"
      },
      "outputs": [],
      "source": [
        "# for local operations\n",
        "import os\n",
        "os.environ['JAVA_HOME'] = \"C:\\\\Program Files\\\\Java\\\\jdk-11\"\n",
        "os.environ['HADOOP_HOME'] = \"C:\\\\hadoop-3.3.6\"\n",
        "\n",
        "import pandas as pd\n",
        "from pyspark.sql import functions as f"
      ]
    },
    {
      "cell_type": "code",
      "execution_count": 2,
      "metadata": {
        "colab": {
          "base_uri": "https://localhost:8080/",
          "height": 219
        },
        "id": "2b503dc4",
        "outputId": "58509b3b-8458-48e7-d5a9-c522c07c3057"
      },
      "outputs": [
        {
          "data": {
            "text/html": [
              "\n",
              "            <div>\n",
              "                <p><b>SparkSession - in-memory</b></p>\n",
              "                \n",
              "        <div>\n",
              "            <p><b>SparkContext</b></p>\n",
              "\n",
              "            <p><a href=\"http://host.docker.internal:4040\">Spark UI</a></p>\n",
              "\n",
              "            <dl>\n",
              "              <dt>Version</dt>\n",
              "                <dd><code>v3.5.0</code></dd>\n",
              "              <dt>Master</dt>\n",
              "                <dd><code>local[*]</code></dd>\n",
              "              <dt>AppName</dt>\n",
              "                <dd><code>pyspark-shell</code></dd>\n",
              "            </dl>\n",
              "        </div>\n",
              "        \n",
              "            </div>\n",
              "        "
            ],
            "text/plain": [
              "<pyspark.sql.session.SparkSession at 0x1d7ccabb230>"
            ]
          },
          "execution_count": 2,
          "metadata": {},
          "output_type": "execute_result"
        }
      ],
      "source": [
        "from pyspark.sql import SparkSession\n",
        "spark = SparkSession.builder \\\n",
        "    .getOrCreate()\n",
        "spark"
      ]
    },
    {
      "cell_type": "code",
      "execution_count": 3,
      "metadata": {
        "colab": {
          "base_uri": "https://localhost:8080/"
        },
        "id": "65b53403",
        "outputId": "938c21b9-ea21-4c93-8179-5eb01225cfb4"
      },
      "outputs": [
        {
          "name": "stdout",
          "output_type": "stream",
          "text": [
            "+--------------------+-------------------+-------------------+------------+--------------------+\n",
            "|         contract_id|          timestamp|              value|value_source|         annotations|\n",
            "+--------------------+-------------------+-------------------+------------+--------------------+\n",
            "|  04 _02 _111 _CHR12|2023-01-01 03:15:00|0.01887007418980177| measurement|{\"region\":\"Europe...|\n",
            "|  04_02 _ 111 _CHR12|2023-01-01 16:15:00|           1.266225| measurement|{\"region\":\"Europe...|\n",
            "|  04_02_ 111 _CHR12 |2023-01-01 23:45:27|               NULL| measurement|{\"region\":\"Europe...|\n",
            "|  04 _02 _111 _CHR12|2023-01-02 03:30:00|0.02093419915470171| measurement|{\"region\":\"Europe...|\n",
            "|   04 _02_111_CHR12 |2023-01-02 09:45:00| 0.0142526590154003| measurement|{\"region\":\"Europe...|\n",
            "|  04_02 _ 111 _CHR12|2023-01-02 18:45:00|0.07874463371047623| measurement|{\"region\":\"Europe...|\n",
            "|   04 _02_111_CHR12 |2023-01-03 00:45:00| 0.1950477376343327| measurement|{\"region\":\"Europe...|\n",
            "|  04_02_ 111 _CHR12 |2023-01-03 01:00:00| 0.1494432740331963| measurement|{\"region\":\"Europe...|\n",
            "|   04 _02_111_CHR12 |2023-01-03 02:30:00|0.03338189045759885| measurement|{\"region\":\"Europe...|\n",
            "|  04_02 _ 111 _CHR12|2023-01-03 03:00:00|0.03238495668261926| measurement|{\"region\":\"Europe...|\n",
            "|  04_02 _ 111 _CHR12|2023-01-03 03:30:00| 0.0220772184365469| measurement|{\"region\":\"Europe...|\n",
            "| 04 _ 02 _ 111 _C...|2023-01-03 10:00:00|0.03501051495845486| measurement|{\"region\":\"Europe...|\n",
            "|  04_02_ 111 _CHR12 |2023-01-03 18:28:16| 0.2023866001685278| measurement|{\"region\":\"Europe...|\n",
            "|   04 _02_111_CHR12 |2023-01-04 10:30:00|0.01429780300596091| measurement|{\"region\":\"Europe...|\n",
            "|   04 _02_111_CHR12 |2023-01-04 14:15:00|           0.203275| measurement|{\"region\":\"Europe...|\n",
            "|  04_02 _ 111 _CHR12|2023-01-04 19:45:00|0.06086449749735329| measurement|{\"region\":\"Europe...|\n",
            "|  04_02 _ 111 _CHR12|2023-01-04 21:00:00|0.02026097623283609| measurement|{\"region\":\"Europe...|\n",
            "|  04_02 _ 111 _CHR12|2023-01-04 23:45:00| 0.3660749980000229| measurement|{\"region\":\"Europe...|\n",
            "|  04_02_ 111 _CHR12 |2023-01-05 02:00:00|0.04851590576044357| measurement|{\"region\":\"Europe...|\n",
            "|   04 _02_111_CHR12 |2023-01-05 03:45:00|0.03939362031461627| measurement|{\"region\":\"Europe...|\n",
            "+--------------------+-------------------+-------------------+------------+--------------------+\n",
            "only showing top 20 rows\n",
            "\n",
            "root\n",
            " |-- contract_id: string (nullable = true)\n",
            " |-- timestamp: timestamp (nullable = true)\n",
            " |-- value: double (nullable = true)\n",
            " |-- value_source: string (nullable = true)\n",
            " |-- annotations: string (nullable = true)\n",
            "\n"
          ]
        }
      ],
      "source": [
        "from pyspark.sql import types as T\n",
        "\n",
        "data_schema = T.StructType([\n",
        "    T.StructField('contract_id', T.StringType(), False),\n",
        "    T.StructField('timestamp', T.TimestampType(), False),\n",
        "    T.StructField('value', T.DoubleType(), True),\n",
        "    T.StructField('value_source', T.StringType(), False),\n",
        "    T.StructField('annotations', T.StringType(), True)\n",
        "])\n",
        "\n",
        "df_raw_time_series = spark.read.format('json') \\\n",
        "    .schema(data_schema) \\\n",
        "    .load('project_data/project/raw_time_series/json/part-00000-3992c3d5-97c8-4e7d-8328-b7c8379135e8-c000.json')\n",
        "df_raw_time_series.show()\n",
        "df_raw_time_series.printSchema()"
      ]
    },
    {
      "cell_type": "markdown",
      "metadata": {
        "id": "sTmd4zmsQDfr"
      },
      "source": [
        "Data clean-up progress - if ruled more than once, all values will be turned to NULL"
      ]
    },
    {
      "cell_type": "code",
      "execution_count": 4,
      "metadata": {
        "colab": {
          "base_uri": "https://localhost:8080/"
        },
        "id": "I9SATXLQJfbO",
        "outputId": "7746a91a-acde-4d24-d19c-b81f71668e62"
      },
      "outputs": [
        {
          "name": "stdout",
          "output_type": "stream",
          "text": [
            "+---------------+----------------+-------------------+------------+--------------------+\n",
            "|    contract_id|       timestamp|              value|value_source|         annotations|\n",
            "+---------------+----------------+-------------------+------------+--------------------+\n",
            "|04_02_111_CHR12|2023-01-01 03:15|0.01887007418980177| measurement|{\"region\":\"Europe...|\n",
            "|04_02_111_CHR12|2023-01-01 16:15|           1.266225| measurement|{\"region\":\"Europe...|\n",
            "|04_02_111_CHR12|2023-01-01 23:45|               NULL|     missing|{\"region\":\"Europe...|\n",
            "|04_02_111_CHR12|2023-01-02 03:30|0.02093419915470171| measurement|{\"region\":\"Europe...|\n",
            "|04_02_111_CHR12|2023-01-02 09:45| 0.0142526590154003| measurement|{\"region\":\"Europe...|\n",
            "|04_02_111_CHR12|2023-01-02 18:45|0.07874463371047623| measurement|{\"region\":\"Europe...|\n",
            "|04_02_111_CHR12|2023-01-03 00:45| 0.1950477376343327| measurement|{\"region\":\"Europe...|\n",
            "|04_02_111_CHR12|2023-01-03 01:00| 0.1494432740331963| measurement|{\"region\":\"Europe...|\n",
            "|04_02_111_CHR12|2023-01-03 02:30|0.03338189045759885| measurement|{\"region\":\"Europe...|\n",
            "|04_02_111_CHR12|2023-01-03 03:00|0.03238495668261926| measurement|{\"region\":\"Europe...|\n",
            "|04_02_111_CHR12|2023-01-03 03:30| 0.0220772184365469| measurement|{\"region\":\"Europe...|\n",
            "|04_02_111_CHR12|2023-01-03 10:00|0.03501051495845486| measurement|{\"region\":\"Europe...|\n",
            "|04_02_111_CHR12|2023-01-03 18:30| 0.2023866001685278| measurement|{\"region\":\"Europe...|\n",
            "|04_02_111_CHR12|2023-01-04 10:30|0.01429780300596091| measurement|{\"region\":\"Europe...|\n",
            "|04_02_111_CHR12|2023-01-04 14:15|           0.203275| measurement|{\"region\":\"Europe...|\n",
            "|04_02_111_CHR12|2023-01-04 19:45|0.06086449749735329| measurement|{\"region\":\"Europe...|\n",
            "|04_02_111_CHR12|2023-01-04 21:00|0.02026097623283609| measurement|{\"region\":\"Europe...|\n",
            "|04_02_111_CHR12|2023-01-04 23:45| 0.3660749980000229| measurement|{\"region\":\"Europe...|\n",
            "|04_02_111_CHR12|2023-01-05 02:00|0.04851590576044357| measurement|{\"region\":\"Europe...|\n",
            "|04_02_111_CHR12|2023-01-05 03:45|0.03939362031461627| measurement|{\"region\":\"Europe...|\n",
            "+---------------+----------------+-------------------+------------+--------------------+\n",
            "only showing top 20 rows\n",
            "\n"
          ]
        }
      ],
      "source": [
        "df_raw_time_series = (\n",
        "    df_raw_time_series\n",
        "    .withColumn('contract_id', f.regexp_replace(f.col('contract_id'), ' ', ''))\n",
        "    .withColumn('value_source', f.when(f.col('value').isNull(), 'missing').otherwise(f.col('value_source')))\n",
        "    .withColumn('timestamp',\n",
        "                f.from_unixtime(f.round(f.unix_timestamp('timestamp') / (15 * 60)) * (15 * 60)))\n",
        "    .withColumn('timestamp',f.date_format('timestamp', 'yyyy-MM-dd HH:mm'))\n",
        ")\n",
        "df_raw_time_series.show()"
      ]
    },
    {
      "cell_type": "markdown",
      "metadata": {},
      "source": [
        "Extracting a new \"region\" column from \"annotations\""
      ]
    },
    {
      "cell_type": "code",
      "execution_count": 5,
      "metadata": {
        "id": "yV3EoGJVLxIF"
      },
      "outputs": [
        {
          "name": "stdout",
          "output_type": "stream",
          "text": [
            "+---------------+----------------+-------------------+------------+--------------------+-------------+\n",
            "|    contract_id|       timestamp|              value|value_source|         annotations|       region|\n",
            "+---------------+----------------+-------------------+------------+--------------------+-------------+\n",
            "|04_02_111_CHR12|2023-01-01 03:15|0.01887007418980177| measurement|{\"region\":\"Europe...|Europe/Berlin|\n",
            "|04_02_111_CHR12|2023-01-01 16:15|           1.266225| measurement|{\"region\":\"Europe...|Europe/Berlin|\n",
            "|04_02_111_CHR12|2023-01-01 23:45|               NULL|     missing|{\"region\":\"Europe...|Europe/Berlin|\n",
            "|04_02_111_CHR12|2023-01-02 03:30|0.02093419915470171| measurement|{\"region\":\"Europe...|Europe/Berlin|\n",
            "|04_02_111_CHR12|2023-01-02 09:45| 0.0142526590154003| measurement|{\"region\":\"Europe...|Europe/Berlin|\n",
            "|04_02_111_CHR12|2023-01-02 18:45|0.07874463371047623| measurement|{\"region\":\"Europe...|Europe/Berlin|\n",
            "|04_02_111_CHR12|2023-01-03 00:45| 0.1950477376343327| measurement|{\"region\":\"Europe...|Europe/Berlin|\n",
            "|04_02_111_CHR12|2023-01-03 01:00| 0.1494432740331963| measurement|{\"region\":\"Europe...|Europe/Berlin|\n",
            "|04_02_111_CHR12|2023-01-03 02:30|0.03338189045759885| measurement|{\"region\":\"Europe...|Europe/Berlin|\n",
            "|04_02_111_CHR12|2023-01-03 03:00|0.03238495668261926| measurement|{\"region\":\"Europe...|Europe/Berlin|\n",
            "|04_02_111_CHR12|2023-01-03 03:30| 0.0220772184365469| measurement|{\"region\":\"Europe...|Europe/Berlin|\n",
            "|04_02_111_CHR12|2023-01-03 10:00|0.03501051495845486| measurement|{\"region\":\"Europe...|Europe/Berlin|\n",
            "|04_02_111_CHR12|2023-01-03 18:30| 0.2023866001685278| measurement|{\"region\":\"Europe...|Europe/Berlin|\n",
            "|04_02_111_CHR12|2023-01-04 10:30|0.01429780300596091| measurement|{\"region\":\"Europe...|Europe/Berlin|\n",
            "|04_02_111_CHR12|2023-01-04 14:15|           0.203275| measurement|{\"region\":\"Europe...|Europe/Berlin|\n",
            "|04_02_111_CHR12|2023-01-04 19:45|0.06086449749735329| measurement|{\"region\":\"Europe...|Europe/Berlin|\n",
            "|04_02_111_CHR12|2023-01-04 21:00|0.02026097623283609| measurement|{\"region\":\"Europe...|Europe/Berlin|\n",
            "|04_02_111_CHR12|2023-01-04 23:45| 0.3660749980000229| measurement|{\"region\":\"Europe...|Europe/Berlin|\n",
            "|04_02_111_CHR12|2023-01-05 02:00|0.04851590576044357| measurement|{\"region\":\"Europe...|Europe/Berlin|\n",
            "|04_02_111_CHR12|2023-01-05 03:45|0.03939362031461627| measurement|{\"region\":\"Europe...|Europe/Berlin|\n",
            "+---------------+----------------+-------------------+------------+--------------------+-------------+\n",
            "only showing top 20 rows\n",
            "\n",
            "+-------------+\n",
            "|       region|\n",
            "+-------------+\n",
            "|Europe/Berlin|\n",
            "|     WakaWaka|\n",
            "+-------------+\n",
            "\n"
          ]
        }
      ],
      "source": [
        "json_schema = T.StructType([\n",
        "    T.StructField('region', T.StringType(), False)\n",
        "])\n",
        "\n",
        "df_raw_time_series = (\n",
        "    df_raw_time_series\n",
        "    .withColumn('region', f.from_json(f.col('annotations'), json_schema).getField('region'))\n",
        ")\n",
        "df_raw_time_series.show()\n",
        "\n",
        "# check-up to see other regions\n",
        "df_raw_time_series.select('region').distinct().show()"
      ]
    },
    {
      "cell_type": "markdown",
      "metadata": {},
      "source": [
        "Customers with invalid regions will be removed from the database and saved on disk in a separate location.\n",
        "- Suppose the regions respect the following format: `continent/city`"
      ]
    },
    {
      "cell_type": "code",
      "execution_count": null,
      "metadata": {},
      "outputs": [
        {
          "name": "stdout",
          "output_type": "stream",
          "text": [
            "+---------------+----------------+--------------------+------------+--------------------+--------+\n",
            "|    contract_id|       timestamp|               value|value_source|         annotations|  region|\n",
            "+---------------+----------------+--------------------+------------+--------------------+--------+\n",
            "|01_02_155_CHR98|2023-01-01 05:00|  0.1407119333744049| measurement|{\"region\":\"WakaWa...|WakaWaka|\n",
            "|01_02_155_CHR98|2023-01-01 07:00| 0.04566259682178497| measurement|{\"region\":\"WakaWa...|WakaWaka|\n",
            "|01_02_155_CHR98|2023-01-01 07:30| 0.10312729328870773| measurement|{\"region\":\"WakaWa...|WakaWaka|\n",
            "|01_02_155_CHR98|2023-01-01 08:30| 0.06968000531196594| measurement|{\"region\":\"WakaWa...|WakaWaka|\n",
            "|01_02_155_CHR98|2023-01-01 09:30| 0.11096686869859695| measurement|{\"region\":\"WakaWa...|WakaWaka|\n",
            "|01_02_155_CHR98|2023-01-01 09:45|   0.241357684135437| measurement|{\"region\":\"WakaWa...|WakaWaka|\n",
            "|01_02_155_CHR98|2023-01-01 12:30| 0.07323921471834183| measurement|{\"region\":\"WakaWa...|WakaWaka|\n",
            "|01_02_155_CHR98|2023-01-01 13:30| 0.21883560717105865| measurement|{\"region\":\"WakaWa...|WakaWaka|\n",
            "|01_02_155_CHR98|2023-01-01 15:45| 0.09741219133138657| measurement|{\"region\":\"WakaWa...|WakaWaka|\n",
            "|01_02_155_CHR98|2023-01-01 16:15| 0.10783068090677261| measurement|{\"region\":\"WakaWa...|WakaWaka|\n",
            "|01_02_155_CHR98|2023-01-01 17:45|  0.0838875025510788| measurement|{\"region\":\"WakaWa...|WakaWaka|\n",
            "|01_02_155_CHR98|2023-01-01 19:45| 0.05446882173418999| measurement|{\"region\":\"WakaWa...|WakaWaka|\n",
            "|01_02_155_CHR98|2023-01-02 00:00|0.050525397062301636| measurement|{\"region\":\"WakaWa...|WakaWaka|\n",
            "|01_02_155_CHR98|2023-01-02 02:45| 0.14669811725616455| measurement|{\"region\":\"WakaWa...|WakaWaka|\n",
            "|01_02_155_CHR98|2023-01-02 09:15|0.019100040197372437| measurement|{\"region\":\"WakaWa...|WakaWaka|\n",
            "|01_02_155_CHR98|2023-01-02 09:30|0.025591082870960236| measurement|{\"region\":\"WakaWa...|WakaWaka|\n",
            "|01_02_155_CHR98|2023-01-02 10:15| 0.06701185554265976| measurement|{\"region\":\"WakaWa...|WakaWaka|\n",
            "|01_02_155_CHR98|2023-01-02 13:00| 0.05964900180697441| measurement|{\"region\":\"WakaWa...|WakaWaka|\n",
            "|01_02_155_CHR98|2023-01-02 14:30| 0.11039183288812637| measurement|{\"region\":\"WakaWa...|WakaWaka|\n",
            "|01_02_155_CHR98|2023-01-02 16:00| 0.07751036435365677| measurement|{\"region\":\"WakaWa...|WakaWaka|\n",
            "+---------------+----------------+--------------------+------------+--------------------+--------+\n",
            "only showing top 20 rows\n",
            "\n"
          ]
        },
        {
          "ename": "Py4JJavaError",
          "evalue": "An error occurred while calling o81.json.\n: java.lang.UnsatisfiedLinkError: 'boolean org.apache.hadoop.io.nativeio.NativeIO$Windows.access0(java.lang.String, int)'\r\n\tat org.apache.hadoop.io.nativeio.NativeIO$Windows.access0(Native Method)\r\n\tat org.apache.hadoop.io.nativeio.NativeIO$Windows.access(NativeIO.java:793)\r\n\tat org.apache.hadoop.fs.FileUtil.canRead(FileUtil.java:1249)\r\n\tat org.apache.hadoop.fs.FileUtil.list(FileUtil.java:1454)\r\n\tat org.apache.hadoop.fs.RawLocalFileSystem.listStatus(RawLocalFileSystem.java:601)\r\n\tat org.apache.hadoop.fs.FileSystem.listStatus(FileSystem.java:1972)\r\n\tat org.apache.hadoop.fs.FileSystem.listStatus(FileSystem.java:2014)\r\n\tat org.apache.hadoop.fs.ChecksumFileSystem.listStatus(ChecksumFileSystem.java:761)\r\n\tat org.apache.hadoop.fs.FileSystem.listStatus(FileSystem.java:1972)\r\n\tat org.apache.hadoop.fs.FileSystem.listStatus(FileSystem.java:2014)\r\n\tat org.apache.hadoop.mapreduce.lib.output.FileOutputCommitter.getAllCommittedTaskPaths(FileOutputCommitter.java:334)\r\n\tat org.apache.hadoop.mapreduce.lib.output.FileOutputCommitter.commitJobInternal(FileOutputCommitter.java:404)\r\n\tat org.apache.hadoop.mapreduce.lib.output.FileOutputCommitter.commitJob(FileOutputCommitter.java:377)\r\n\tat org.apache.spark.internal.io.HadoopMapReduceCommitProtocol.commitJob(HadoopMapReduceCommitProtocol.scala:192)\r\n\tat org.apache.spark.sql.execution.datasources.FileFormatWriter$.$anonfun$writeAndCommit$3(FileFormatWriter.scala:275)\r\n\tat scala.runtime.java8.JFunction0$mcV$sp.apply(JFunction0$mcV$sp.java:23)\r\n\tat org.apache.spark.util.Utils$.timeTakenMs(Utils.scala:552)\r\n\tat org.apache.spark.sql.execution.datasources.FileFormatWriter$.writeAndCommit(FileFormatWriter.scala:275)\r\n\tat org.apache.spark.sql.execution.datasources.FileFormatWriter$.executeWrite(FileFormatWriter.scala:304)\r\n\tat org.apache.spark.sql.execution.datasources.FileFormatWriter$.write(FileFormatWriter.scala:190)\r\n\tat org.apache.spark.sql.execution.datasources.InsertIntoHadoopFsRelationCommand.run(InsertIntoHadoopFsRelationCommand.scala:190)\r\n\tat org.apache.spark.sql.execution.command.DataWritingCommandExec.sideEffectResult$lzycompute(commands.scala:113)\r\n\tat org.apache.spark.sql.execution.command.DataWritingCommandExec.sideEffectResult(commands.scala:111)\r\n\tat org.apache.spark.sql.execution.command.DataWritingCommandExec.executeCollect(commands.scala:125)\r\n\tat org.apache.spark.sql.execution.QueryExecution$$anonfun$eagerlyExecuteCommands$1.$anonfun$applyOrElse$1(QueryExecution.scala:107)\r\n\tat org.apache.spark.sql.execution.SQLExecution$.$anonfun$withNewExecutionId$6(SQLExecution.scala:125)\r\n\tat org.apache.spark.sql.execution.SQLExecution$.withSQLConfPropagated(SQLExecution.scala:201)\r\n\tat org.apache.spark.sql.execution.SQLExecution$.$anonfun$withNewExecutionId$1(SQLExecution.scala:108)\r\n\tat org.apache.spark.sql.SparkSession.withActive(SparkSession.scala:900)\r\n\tat org.apache.spark.sql.execution.SQLExecution$.withNewExecutionId(SQLExecution.scala:66)\r\n\tat org.apache.spark.sql.execution.QueryExecution$$anonfun$eagerlyExecuteCommands$1.applyOrElse(QueryExecution.scala:107)\r\n\tat org.apache.spark.sql.execution.QueryExecution$$anonfun$eagerlyExecuteCommands$1.applyOrElse(QueryExecution.scala:98)\r\n\tat org.apache.spark.sql.catalyst.trees.TreeNode.$anonfun$transformDownWithPruning$1(TreeNode.scala:461)\r\n\tat org.apache.spark.sql.catalyst.trees.CurrentOrigin$.withOrigin(origin.scala:76)\r\n\tat org.apache.spark.sql.catalyst.trees.TreeNode.transformDownWithPruning(TreeNode.scala:461)\r\n\tat org.apache.spark.sql.catalyst.plans.logical.LogicalPlan.org$apache$spark$sql$catalyst$plans$logical$AnalysisHelper$$super$transformDownWithPruning(LogicalPlan.scala:32)\r\n\tat org.apache.spark.sql.catalyst.plans.logical.AnalysisHelper.transformDownWithPruning(AnalysisHelper.scala:267)\r\n\tat org.apache.spark.sql.catalyst.plans.logical.AnalysisHelper.transformDownWithPruning$(AnalysisHelper.scala:263)\r\n\tat org.apache.spark.sql.catalyst.plans.logical.LogicalPlan.transformDownWithPruning(LogicalPlan.scala:32)\r\n\tat org.apache.spark.sql.catalyst.plans.logical.LogicalPlan.transformDownWithPruning(LogicalPlan.scala:32)\r\n\tat org.apache.spark.sql.catalyst.trees.TreeNode.transformDown(TreeNode.scala:437)\r\n\tat org.apache.spark.sql.execution.QueryExecution.eagerlyExecuteCommands(QueryExecution.scala:98)\r\n\tat org.apache.spark.sql.execution.QueryExecution.commandExecuted$lzycompute(QueryExecution.scala:85)\r\n\tat org.apache.spark.sql.execution.QueryExecution.commandExecuted(QueryExecution.scala:83)\r\n\tat org.apache.spark.sql.execution.QueryExecution.assertCommandExecuted(QueryExecution.scala:142)\r\n\tat org.apache.spark.sql.DataFrameWriter.runCommand(DataFrameWriter.scala:859)\r\n\tat org.apache.spark.sql.DataFrameWriter.saveToV1Source(DataFrameWriter.scala:388)\r\n\tat org.apache.spark.sql.DataFrameWriter.saveInternal(DataFrameWriter.scala:361)\r\n\tat org.apache.spark.sql.DataFrameWriter.save(DataFrameWriter.scala:240)\r\n\tat org.apache.spark.sql.DataFrameWriter.json(DataFrameWriter.scala:774)\r\n\tat java.base/jdk.internal.reflect.NativeMethodAccessorImpl.invoke0(Native Method)\r\n\tat java.base/jdk.internal.reflect.NativeMethodAccessorImpl.invoke(NativeMethodAccessorImpl.java:62)\r\n\tat java.base/jdk.internal.reflect.DelegatingMethodAccessorImpl.invoke(DelegatingMethodAccessorImpl.java:43)\r\n\tat java.base/java.lang.reflect.Method.invoke(Method.java:566)\r\n\tat py4j.reflection.MethodInvoker.invoke(MethodInvoker.java:244)\r\n\tat py4j.reflection.ReflectionEngine.invoke(ReflectionEngine.java:374)\r\n\tat py4j.Gateway.invoke(Gateway.java:282)\r\n\tat py4j.commands.AbstractCommand.invokeMethod(AbstractCommand.java:132)\r\n\tat py4j.commands.CallCommand.execute(CallCommand.java:79)\r\n\tat py4j.ClientServerConnection.waitForCommands(ClientServerConnection.java:182)\r\n\tat py4j.ClientServerConnection.run(ClientServerConnection.java:106)\r\n\tat java.base/java.lang.Thread.run(Thread.java:834)\r\n",
          "output_type": "error",
          "traceback": [
            "\u001b[31m---------------------------------------------------------------------------\u001b[39m",
            "\u001b[31mPy4JJavaError\u001b[39m                             Traceback (most recent call last)",
            "\u001b[36mCell\u001b[39m\u001b[36m \u001b[39m\u001b[32mIn[6]\u001b[39m\u001b[32m, line 9\u001b[39m\n\u001b[32m      1\u001b[39m df_invalid_region = (\n\u001b[32m      2\u001b[39m     df_raw_time_series\n\u001b[32m      3\u001b[39m     .filter((f.col(\u001b[33m'\u001b[39m\u001b[33mregion\u001b[39m\u001b[33m'\u001b[39m).isNull()) |\n\u001b[32m      4\u001b[39m             (f.trim(f.col(\u001b[33m'\u001b[39m\u001b[33mregion\u001b[39m\u001b[33m'\u001b[39m)) == \u001b[33m'\u001b[39m\u001b[33m'\u001b[39m) |\n\u001b[32m      5\u001b[39m             (f.regexp_extract(f.col(\u001b[33m'\u001b[39m\u001b[33mregion\u001b[39m\u001b[33m'\u001b[39m), \u001b[33mr\u001b[39m\u001b[33m'\u001b[39m\u001b[33m^[A-Za-z]+/[A-Za-z]+$\u001b[39m\u001b[33m'\u001b[39m, \u001b[32m0\u001b[39m) == \u001b[33m'\u001b[39m\u001b[33m'\u001b[39m))\n\u001b[32m      6\u001b[39m )\n\u001b[32m      8\u001b[39m df_invalid_region.show()\n\u001b[32m----> \u001b[39m\u001b[32m9\u001b[39m \u001b[43mdf_invalid_region\u001b[49m\u001b[43m.\u001b[49m\u001b[43mwrite\u001b[49m\u001b[43m.\u001b[49m\u001b[43mjson\u001b[49m\u001b[43m(\u001b[49m\u001b[33;43m'\u001b[39;49m\u001b[33;43minvalid_regions\u001b[39;49m\u001b[33;43m'\u001b[39;49m\u001b[43m,\u001b[49m\u001b[43m \u001b[49m\u001b[43mmode\u001b[49m\u001b[43m=\u001b[49m\u001b[33;43m\"\u001b[39;49m\u001b[33;43moverwrite\u001b[39;49m\u001b[33;43m\"\u001b[39;49m\u001b[43m)\u001b[49m\n",
            "\u001b[36mFile \u001b[39m\u001b[32mc:\\Users\\liviu\\Documents\\fiipractic\\big-data\\project\\.venv\\Lib\\site-packages\\pyspark\\sql\\readwriter.py:1658\u001b[39m, in \u001b[36mDataFrameWriter.json\u001b[39m\u001b[34m(self, path, mode, compression, dateFormat, timestampFormat, lineSep, encoding, ignoreNullFields)\u001b[39m\n\u001b[32m   1649\u001b[39m \u001b[38;5;28mself\u001b[39m.mode(mode)\n\u001b[32m   1650\u001b[39m \u001b[38;5;28mself\u001b[39m._set_opts(\n\u001b[32m   1651\u001b[39m     compression=compression,\n\u001b[32m   1652\u001b[39m     dateFormat=dateFormat,\n\u001b[32m   (...)\u001b[39m\u001b[32m   1656\u001b[39m     ignoreNullFields=ignoreNullFields,\n\u001b[32m   1657\u001b[39m )\n\u001b[32m-> \u001b[39m\u001b[32m1658\u001b[39m \u001b[38;5;28;43mself\u001b[39;49m\u001b[43m.\u001b[49m\u001b[43m_jwrite\u001b[49m\u001b[43m.\u001b[49m\u001b[43mjson\u001b[49m\u001b[43m(\u001b[49m\u001b[43mpath\u001b[49m\u001b[43m)\u001b[49m\n",
            "\u001b[36mFile \u001b[39m\u001b[32mc:\\Users\\liviu\\Documents\\fiipractic\\big-data\\project\\.venv\\Lib\\site-packages\\py4j\\java_gateway.py:1322\u001b[39m, in \u001b[36mJavaMember.__call__\u001b[39m\u001b[34m(self, *args)\u001b[39m\n\u001b[32m   1316\u001b[39m command = proto.CALL_COMMAND_NAME +\\\n\u001b[32m   1317\u001b[39m     \u001b[38;5;28mself\u001b[39m.command_header +\\\n\u001b[32m   1318\u001b[39m     args_command +\\\n\u001b[32m   1319\u001b[39m     proto.END_COMMAND_PART\n\u001b[32m   1321\u001b[39m answer = \u001b[38;5;28mself\u001b[39m.gateway_client.send_command(command)\n\u001b[32m-> \u001b[39m\u001b[32m1322\u001b[39m return_value = \u001b[43mget_return_value\u001b[49m\u001b[43m(\u001b[49m\n\u001b[32m   1323\u001b[39m \u001b[43m    \u001b[49m\u001b[43manswer\u001b[49m\u001b[43m,\u001b[49m\u001b[43m \u001b[49m\u001b[38;5;28;43mself\u001b[39;49m\u001b[43m.\u001b[49m\u001b[43mgateway_client\u001b[49m\u001b[43m,\u001b[49m\u001b[43m \u001b[49m\u001b[38;5;28;43mself\u001b[39;49m\u001b[43m.\u001b[49m\u001b[43mtarget_id\u001b[49m\u001b[43m,\u001b[49m\u001b[43m \u001b[49m\u001b[38;5;28;43mself\u001b[39;49m\u001b[43m.\u001b[49m\u001b[43mname\u001b[49m\u001b[43m)\u001b[49m\n\u001b[32m   1325\u001b[39m \u001b[38;5;28;01mfor\u001b[39;00m temp_arg \u001b[38;5;129;01min\u001b[39;00m temp_args:\n\u001b[32m   1326\u001b[39m     \u001b[38;5;28;01mif\u001b[39;00m \u001b[38;5;28mhasattr\u001b[39m(temp_arg, \u001b[33m\"\u001b[39m\u001b[33m_detach\u001b[39m\u001b[33m\"\u001b[39m):\n",
            "\u001b[36mFile \u001b[39m\u001b[32mc:\\Users\\liviu\\Documents\\fiipractic\\big-data\\project\\.venv\\Lib\\site-packages\\pyspark\\errors\\exceptions\\captured.py:179\u001b[39m, in \u001b[36mcapture_sql_exception.<locals>.deco\u001b[39m\u001b[34m(*a, **kw)\u001b[39m\n\u001b[32m    177\u001b[39m \u001b[38;5;28;01mdef\u001b[39;00m\u001b[38;5;250m \u001b[39m\u001b[34mdeco\u001b[39m(*a: Any, **kw: Any) -> Any:\n\u001b[32m    178\u001b[39m     \u001b[38;5;28;01mtry\u001b[39;00m:\n\u001b[32m--> \u001b[39m\u001b[32m179\u001b[39m         \u001b[38;5;28;01mreturn\u001b[39;00m \u001b[43mf\u001b[49m\u001b[43m(\u001b[49m\u001b[43m*\u001b[49m\u001b[43ma\u001b[49m\u001b[43m,\u001b[49m\u001b[43m \u001b[49m\u001b[43m*\u001b[49m\u001b[43m*\u001b[49m\u001b[43mkw\u001b[49m\u001b[43m)\u001b[49m\n\u001b[32m    180\u001b[39m     \u001b[38;5;28;01mexcept\u001b[39;00m Py4JJavaError \u001b[38;5;28;01mas\u001b[39;00m e:\n\u001b[32m    181\u001b[39m         converted = convert_exception(e.java_exception)\n",
            "\u001b[36mFile \u001b[39m\u001b[32mc:\\Users\\liviu\\Documents\\fiipractic\\big-data\\project\\.venv\\Lib\\site-packages\\py4j\\protocol.py:326\u001b[39m, in \u001b[36mget_return_value\u001b[39m\u001b[34m(answer, gateway_client, target_id, name)\u001b[39m\n\u001b[32m    324\u001b[39m value = OUTPUT_CONVERTER[\u001b[38;5;28mtype\u001b[39m](answer[\u001b[32m2\u001b[39m:], gateway_client)\n\u001b[32m    325\u001b[39m \u001b[38;5;28;01mif\u001b[39;00m answer[\u001b[32m1\u001b[39m] == REFERENCE_TYPE:\n\u001b[32m--> \u001b[39m\u001b[32m326\u001b[39m     \u001b[38;5;28;01mraise\u001b[39;00m Py4JJavaError(\n\u001b[32m    327\u001b[39m         \u001b[33m\"\u001b[39m\u001b[33mAn error occurred while calling \u001b[39m\u001b[38;5;132;01m{0}\u001b[39;00m\u001b[38;5;132;01m{1}\u001b[39;00m\u001b[38;5;132;01m{2}\u001b[39;00m\u001b[33m.\u001b[39m\u001b[38;5;130;01m\\n\u001b[39;00m\u001b[33m\"\u001b[39m.\n\u001b[32m    328\u001b[39m         \u001b[38;5;28mformat\u001b[39m(target_id, \u001b[33m\"\u001b[39m\u001b[33m.\u001b[39m\u001b[33m\"\u001b[39m, name), value)\n\u001b[32m    329\u001b[39m \u001b[38;5;28;01melse\u001b[39;00m:\n\u001b[32m    330\u001b[39m     \u001b[38;5;28;01mraise\u001b[39;00m Py4JError(\n\u001b[32m    331\u001b[39m         \u001b[33m\"\u001b[39m\u001b[33mAn error occurred while calling \u001b[39m\u001b[38;5;132;01m{0}\u001b[39;00m\u001b[38;5;132;01m{1}\u001b[39;00m\u001b[38;5;132;01m{2}\u001b[39;00m\u001b[33m. Trace:\u001b[39m\u001b[38;5;130;01m\\n\u001b[39;00m\u001b[38;5;132;01m{3}\u001b[39;00m\u001b[38;5;130;01m\\n\u001b[39;00m\u001b[33m\"\u001b[39m.\n\u001b[32m    332\u001b[39m         \u001b[38;5;28mformat\u001b[39m(target_id, \u001b[33m\"\u001b[39m\u001b[33m.\u001b[39m\u001b[33m\"\u001b[39m, name, value))\n",
            "\u001b[31mPy4JJavaError\u001b[39m: An error occurred while calling o81.json.\n: java.lang.UnsatisfiedLinkError: 'boolean org.apache.hadoop.io.nativeio.NativeIO$Windows.access0(java.lang.String, int)'\r\n\tat org.apache.hadoop.io.nativeio.NativeIO$Windows.access0(Native Method)\r\n\tat org.apache.hadoop.io.nativeio.NativeIO$Windows.access(NativeIO.java:793)\r\n\tat org.apache.hadoop.fs.FileUtil.canRead(FileUtil.java:1249)\r\n\tat org.apache.hadoop.fs.FileUtil.list(FileUtil.java:1454)\r\n\tat org.apache.hadoop.fs.RawLocalFileSystem.listStatus(RawLocalFileSystem.java:601)\r\n\tat org.apache.hadoop.fs.FileSystem.listStatus(FileSystem.java:1972)\r\n\tat org.apache.hadoop.fs.FileSystem.listStatus(FileSystem.java:2014)\r\n\tat org.apache.hadoop.fs.ChecksumFileSystem.listStatus(ChecksumFileSystem.java:761)\r\n\tat org.apache.hadoop.fs.FileSystem.listStatus(FileSystem.java:1972)\r\n\tat org.apache.hadoop.fs.FileSystem.listStatus(FileSystem.java:2014)\r\n\tat org.apache.hadoop.mapreduce.lib.output.FileOutputCommitter.getAllCommittedTaskPaths(FileOutputCommitter.java:334)\r\n\tat org.apache.hadoop.mapreduce.lib.output.FileOutputCommitter.commitJobInternal(FileOutputCommitter.java:404)\r\n\tat org.apache.hadoop.mapreduce.lib.output.FileOutputCommitter.commitJob(FileOutputCommitter.java:377)\r\n\tat org.apache.spark.internal.io.HadoopMapReduceCommitProtocol.commitJob(HadoopMapReduceCommitProtocol.scala:192)\r\n\tat org.apache.spark.sql.execution.datasources.FileFormatWriter$.$anonfun$writeAndCommit$3(FileFormatWriter.scala:275)\r\n\tat scala.runtime.java8.JFunction0$mcV$sp.apply(JFunction0$mcV$sp.java:23)\r\n\tat org.apache.spark.util.Utils$.timeTakenMs(Utils.scala:552)\r\n\tat org.apache.spark.sql.execution.datasources.FileFormatWriter$.writeAndCommit(FileFormatWriter.scala:275)\r\n\tat org.apache.spark.sql.execution.datasources.FileFormatWriter$.executeWrite(FileFormatWriter.scala:304)\r\n\tat org.apache.spark.sql.execution.datasources.FileFormatWriter$.write(FileFormatWriter.scala:190)\r\n\tat org.apache.spark.sql.execution.datasources.InsertIntoHadoopFsRelationCommand.run(InsertIntoHadoopFsRelationCommand.scala:190)\r\n\tat org.apache.spark.sql.execution.command.DataWritingCommandExec.sideEffectResult$lzycompute(commands.scala:113)\r\n\tat org.apache.spark.sql.execution.command.DataWritingCommandExec.sideEffectResult(commands.scala:111)\r\n\tat org.apache.spark.sql.execution.command.DataWritingCommandExec.executeCollect(commands.scala:125)\r\n\tat org.apache.spark.sql.execution.QueryExecution$$anonfun$eagerlyExecuteCommands$1.$anonfun$applyOrElse$1(QueryExecution.scala:107)\r\n\tat org.apache.spark.sql.execution.SQLExecution$.$anonfun$withNewExecutionId$6(SQLExecution.scala:125)\r\n\tat org.apache.spark.sql.execution.SQLExecution$.withSQLConfPropagated(SQLExecution.scala:201)\r\n\tat org.apache.spark.sql.execution.SQLExecution$.$anonfun$withNewExecutionId$1(SQLExecution.scala:108)\r\n\tat org.apache.spark.sql.SparkSession.withActive(SparkSession.scala:900)\r\n\tat org.apache.spark.sql.execution.SQLExecution$.withNewExecutionId(SQLExecution.scala:66)\r\n\tat org.apache.spark.sql.execution.QueryExecution$$anonfun$eagerlyExecuteCommands$1.applyOrElse(QueryExecution.scala:107)\r\n\tat org.apache.spark.sql.execution.QueryExecution$$anonfun$eagerlyExecuteCommands$1.applyOrElse(QueryExecution.scala:98)\r\n\tat org.apache.spark.sql.catalyst.trees.TreeNode.$anonfun$transformDownWithPruning$1(TreeNode.scala:461)\r\n\tat org.apache.spark.sql.catalyst.trees.CurrentOrigin$.withOrigin(origin.scala:76)\r\n\tat org.apache.spark.sql.catalyst.trees.TreeNode.transformDownWithPruning(TreeNode.scala:461)\r\n\tat org.apache.spark.sql.catalyst.plans.logical.LogicalPlan.org$apache$spark$sql$catalyst$plans$logical$AnalysisHelper$$super$transformDownWithPruning(LogicalPlan.scala:32)\r\n\tat org.apache.spark.sql.catalyst.plans.logical.AnalysisHelper.transformDownWithPruning(AnalysisHelper.scala:267)\r\n\tat org.apache.spark.sql.catalyst.plans.logical.AnalysisHelper.transformDownWithPruning$(AnalysisHelper.scala:263)\r\n\tat org.apache.spark.sql.catalyst.plans.logical.LogicalPlan.transformDownWithPruning(LogicalPlan.scala:32)\r\n\tat org.apache.spark.sql.catalyst.plans.logical.LogicalPlan.transformDownWithPruning(LogicalPlan.scala:32)\r\n\tat org.apache.spark.sql.catalyst.trees.TreeNode.transformDown(TreeNode.scala:437)\r\n\tat org.apache.spark.sql.execution.QueryExecution.eagerlyExecuteCommands(QueryExecution.scala:98)\r\n\tat org.apache.spark.sql.execution.QueryExecution.commandExecuted$lzycompute(QueryExecution.scala:85)\r\n\tat org.apache.spark.sql.execution.QueryExecution.commandExecuted(QueryExecution.scala:83)\r\n\tat org.apache.spark.sql.execution.QueryExecution.assertCommandExecuted(QueryExecution.scala:142)\r\n\tat org.apache.spark.sql.DataFrameWriter.runCommand(DataFrameWriter.scala:859)\r\n\tat org.apache.spark.sql.DataFrameWriter.saveToV1Source(DataFrameWriter.scala:388)\r\n\tat org.apache.spark.sql.DataFrameWriter.saveInternal(DataFrameWriter.scala:361)\r\n\tat org.apache.spark.sql.DataFrameWriter.save(DataFrameWriter.scala:240)\r\n\tat org.apache.spark.sql.DataFrameWriter.json(DataFrameWriter.scala:774)\r\n\tat java.base/jdk.internal.reflect.NativeMethodAccessorImpl.invoke0(Native Method)\r\n\tat java.base/jdk.internal.reflect.NativeMethodAccessorImpl.invoke(NativeMethodAccessorImpl.java:62)\r\n\tat java.base/jdk.internal.reflect.DelegatingMethodAccessorImpl.invoke(DelegatingMethodAccessorImpl.java:43)\r\n\tat java.base/java.lang.reflect.Method.invoke(Method.java:566)\r\n\tat py4j.reflection.MethodInvoker.invoke(MethodInvoker.java:244)\r\n\tat py4j.reflection.ReflectionEngine.invoke(ReflectionEngine.java:374)\r\n\tat py4j.Gateway.invoke(Gateway.java:282)\r\n\tat py4j.commands.AbstractCommand.invokeMethod(AbstractCommand.java:132)\r\n\tat py4j.commands.CallCommand.execute(CallCommand.java:79)\r\n\tat py4j.ClientServerConnection.waitForCommands(ClientServerConnection.java:182)\r\n\tat py4j.ClientServerConnection.run(ClientServerConnection.java:106)\r\n\tat java.base/java.lang.Thread.run(Thread.java:834)\r\n"
          ]
        }
      ],
      "source": [
        "df_invalid_region = (\n",
        "    df_raw_time_series\n",
        "    .filter((f.col('region').isNull()) |\n",
        "            (f.trim(f.col('region')) == '') |\n",
        "            (f.regexp_extract(f.col('region'), r'^[A-Za-z]+/[A-Za-z]+$', 0) == ''))\n",
        ")\n",
        "\n",
        "df_invalid_region.show()\n",
        "# df_invalid_region.write.json('invalid_regions', mode=\"overwrite\") - doesn't work locally, will update to new environment soon"
      ]
    },
    {
      "cell_type": "markdown",
      "metadata": {},
      "source": [
        "Extract date from the `timestamp` column in a new `utc_date` column"
      ]
    },
    {
      "cell_type": "code",
      "execution_count": 7,
      "metadata": {},
      "outputs": [
        {
          "name": "stdout",
          "output_type": "stream",
          "text": [
            "+---------------+----------------+-------------------+------------+--------------------+-------------+----------+\n",
            "|    contract_id|       timestamp|              value|value_source|         annotations|       region|  utc_date|\n",
            "+---------------+----------------+-------------------+------------+--------------------+-------------+----------+\n",
            "|04_02_111_CHR12|2023-01-01 03:15|0.01887007418980177| measurement|{\"region\":\"Europe...|Europe/Berlin|2023-01-01|\n",
            "|04_02_111_CHR12|2023-01-01 16:15|           1.266225| measurement|{\"region\":\"Europe...|Europe/Berlin|2023-01-01|\n",
            "|04_02_111_CHR12|2023-01-01 23:45|               NULL|     missing|{\"region\":\"Europe...|Europe/Berlin|2023-01-01|\n",
            "|04_02_111_CHR12|2023-01-02 03:30|0.02093419915470171| measurement|{\"region\":\"Europe...|Europe/Berlin|2023-01-02|\n",
            "|04_02_111_CHR12|2023-01-02 09:45| 0.0142526590154003| measurement|{\"region\":\"Europe...|Europe/Berlin|2023-01-02|\n",
            "|04_02_111_CHR12|2023-01-02 18:45|0.07874463371047623| measurement|{\"region\":\"Europe...|Europe/Berlin|2023-01-02|\n",
            "|04_02_111_CHR12|2023-01-03 00:45| 0.1950477376343327| measurement|{\"region\":\"Europe...|Europe/Berlin|2023-01-03|\n",
            "|04_02_111_CHR12|2023-01-03 01:00| 0.1494432740331963| measurement|{\"region\":\"Europe...|Europe/Berlin|2023-01-03|\n",
            "|04_02_111_CHR12|2023-01-03 02:30|0.03338189045759885| measurement|{\"region\":\"Europe...|Europe/Berlin|2023-01-03|\n",
            "|04_02_111_CHR12|2023-01-03 03:00|0.03238495668261926| measurement|{\"region\":\"Europe...|Europe/Berlin|2023-01-03|\n",
            "|04_02_111_CHR12|2023-01-03 03:30| 0.0220772184365469| measurement|{\"region\":\"Europe...|Europe/Berlin|2023-01-03|\n",
            "|04_02_111_CHR12|2023-01-03 10:00|0.03501051495845486| measurement|{\"region\":\"Europe...|Europe/Berlin|2023-01-03|\n",
            "|04_02_111_CHR12|2023-01-03 18:30| 0.2023866001685278| measurement|{\"region\":\"Europe...|Europe/Berlin|2023-01-03|\n",
            "|04_02_111_CHR12|2023-01-04 10:30|0.01429780300596091| measurement|{\"region\":\"Europe...|Europe/Berlin|2023-01-04|\n",
            "|04_02_111_CHR12|2023-01-04 14:15|           0.203275| measurement|{\"region\":\"Europe...|Europe/Berlin|2023-01-04|\n",
            "|04_02_111_CHR12|2023-01-04 19:45|0.06086449749735329| measurement|{\"region\":\"Europe...|Europe/Berlin|2023-01-04|\n",
            "|04_02_111_CHR12|2023-01-04 21:00|0.02026097623283609| measurement|{\"region\":\"Europe...|Europe/Berlin|2023-01-04|\n",
            "|04_02_111_CHR12|2023-01-04 23:45| 0.3660749980000229| measurement|{\"region\":\"Europe...|Europe/Berlin|2023-01-04|\n",
            "|04_02_111_CHR12|2023-01-05 02:00|0.04851590576044357| measurement|{\"region\":\"Europe...|Europe/Berlin|2023-01-05|\n",
            "|04_02_111_CHR12|2023-01-05 03:45|0.03939362031461627| measurement|{\"region\":\"Europe...|Europe/Berlin|2023-01-05|\n",
            "+---------------+----------------+-------------------+------------+--------------------+-------------+----------+\n",
            "only showing top 20 rows\n",
            "\n"
          ]
        }
      ],
      "source": [
        "df_raw_time_series = (\n",
        "    df_raw_time_series\n",
        "    .withColumn('utc_date',f.date_format('timestamp', 'yyyy-MM-dd'))\n",
        ")\n",
        "df_raw_time_series.show()"
      ]
    },
    {
      "cell_type": "markdown",
      "metadata": {},
      "source": [
        "Calculate local date for the date and time of `timestamp`, based on the region, in a new `local_timestamp` column"
      ]
    },
    {
      "cell_type": "code",
      "execution_count": 8,
      "metadata": {},
      "outputs": [
        {
          "name": "stdout",
          "output_type": "stream",
          "text": [
            "+---------------+----------------+-------------------+------------+--------------------+-------------+----------+-------------------+\n",
            "|    contract_id|       timestamp|              value|value_source|         annotations|       region|  utc_date|    local_timestamp|\n",
            "+---------------+----------------+-------------------+------------+--------------------+-------------+----------+-------------------+\n",
            "|04_02_111_CHR12|2023-01-01 03:15|0.01887007418980177| measurement|{\"region\":\"Europe...|Europe/Berlin|2023-01-01|2023-01-01 04:15:00|\n",
            "|04_02_111_CHR12|2023-01-01 16:15|           1.266225| measurement|{\"region\":\"Europe...|Europe/Berlin|2023-01-01|2023-01-01 17:15:00|\n",
            "|04_02_111_CHR12|2023-01-01 23:45|               NULL|     missing|{\"region\":\"Europe...|Europe/Berlin|2023-01-01|2023-01-02 00:45:00|\n",
            "|04_02_111_CHR12|2023-01-02 03:30|0.02093419915470171| measurement|{\"region\":\"Europe...|Europe/Berlin|2023-01-02|2023-01-02 04:30:00|\n",
            "|04_02_111_CHR12|2023-01-02 09:45| 0.0142526590154003| measurement|{\"region\":\"Europe...|Europe/Berlin|2023-01-02|2023-01-02 10:45:00|\n",
            "|04_02_111_CHR12|2023-01-02 18:45|0.07874463371047623| measurement|{\"region\":\"Europe...|Europe/Berlin|2023-01-02|2023-01-02 19:45:00|\n",
            "|04_02_111_CHR12|2023-01-03 00:45| 0.1950477376343327| measurement|{\"region\":\"Europe...|Europe/Berlin|2023-01-03|2023-01-03 01:45:00|\n",
            "|04_02_111_CHR12|2023-01-03 01:00| 0.1494432740331963| measurement|{\"region\":\"Europe...|Europe/Berlin|2023-01-03|2023-01-03 02:00:00|\n",
            "|04_02_111_CHR12|2023-01-03 02:30|0.03338189045759885| measurement|{\"region\":\"Europe...|Europe/Berlin|2023-01-03|2023-01-03 03:30:00|\n",
            "|04_02_111_CHR12|2023-01-03 03:00|0.03238495668261926| measurement|{\"region\":\"Europe...|Europe/Berlin|2023-01-03|2023-01-03 04:00:00|\n",
            "|04_02_111_CHR12|2023-01-03 03:30| 0.0220772184365469| measurement|{\"region\":\"Europe...|Europe/Berlin|2023-01-03|2023-01-03 04:30:00|\n",
            "|04_02_111_CHR12|2023-01-03 10:00|0.03501051495845486| measurement|{\"region\":\"Europe...|Europe/Berlin|2023-01-03|2023-01-03 11:00:00|\n",
            "|04_02_111_CHR12|2023-01-03 18:30| 0.2023866001685278| measurement|{\"region\":\"Europe...|Europe/Berlin|2023-01-03|2023-01-03 19:30:00|\n",
            "|04_02_111_CHR12|2023-01-04 10:30|0.01429780300596091| measurement|{\"region\":\"Europe...|Europe/Berlin|2023-01-04|2023-01-04 11:30:00|\n",
            "|04_02_111_CHR12|2023-01-04 14:15|           0.203275| measurement|{\"region\":\"Europe...|Europe/Berlin|2023-01-04|2023-01-04 15:15:00|\n",
            "|04_02_111_CHR12|2023-01-04 19:45|0.06086449749735329| measurement|{\"region\":\"Europe...|Europe/Berlin|2023-01-04|2023-01-04 20:45:00|\n",
            "|04_02_111_CHR12|2023-01-04 21:00|0.02026097623283609| measurement|{\"region\":\"Europe...|Europe/Berlin|2023-01-04|2023-01-04 22:00:00|\n",
            "|04_02_111_CHR12|2023-01-04 23:45| 0.3660749980000229| measurement|{\"region\":\"Europe...|Europe/Berlin|2023-01-04|2023-01-05 00:45:00|\n",
            "|04_02_111_CHR12|2023-01-05 02:00|0.04851590576044357| measurement|{\"region\":\"Europe...|Europe/Berlin|2023-01-05|2023-01-05 03:00:00|\n",
            "|04_02_111_CHR12|2023-01-05 03:45|0.03939362031461627| measurement|{\"region\":\"Europe...|Europe/Berlin|2023-01-05|2023-01-05 04:45:00|\n",
            "+---------------+----------------+-------------------+------------+--------------------+-------------+----------+-------------------+\n",
            "only showing top 20 rows\n",
            "\n"
          ]
        }
      ],
      "source": [
        "df_raw_time_series = df_raw_time_series.withColumn(\n",
        "    \"local_timestamp\",\n",
        "    f.from_utc_timestamp(df_raw_time_series[\"timestamp\"], df_raw_time_series[\"region\"])\n",
        ")\n",
        "\n",
        "df_raw_time_series.show()"
      ]
    },
    {
      "cell_type": "markdown",
      "metadata": {},
      "source": [
        "Extract date from the `local_timestamp` column in a new `local_date` column"
      ]
    },
    {
      "cell_type": "code",
      "execution_count": 9,
      "metadata": {},
      "outputs": [
        {
          "name": "stdout",
          "output_type": "stream",
          "text": [
            "+---------------+----------------+-------------------+------------+--------------------+-------------+----------+-------------------+----------+\n",
            "|    contract_id|       timestamp|              value|value_source|         annotations|       region|  utc_date|    local_timestamp|local_date|\n",
            "+---------------+----------------+-------------------+------------+--------------------+-------------+----------+-------------------+----------+\n",
            "|04_02_111_CHR12|2023-01-01 03:15|0.01887007418980177| measurement|{\"region\":\"Europe...|Europe/Berlin|2023-01-01|2023-01-01 04:15:00|2023-01-01|\n",
            "|04_02_111_CHR12|2023-01-01 16:15|           1.266225| measurement|{\"region\":\"Europe...|Europe/Berlin|2023-01-01|2023-01-01 17:15:00|2023-01-01|\n",
            "|04_02_111_CHR12|2023-01-01 23:45|               NULL|     missing|{\"region\":\"Europe...|Europe/Berlin|2023-01-01|2023-01-02 00:45:00|2023-01-02|\n",
            "|04_02_111_CHR12|2023-01-02 03:30|0.02093419915470171| measurement|{\"region\":\"Europe...|Europe/Berlin|2023-01-02|2023-01-02 04:30:00|2023-01-02|\n",
            "|04_02_111_CHR12|2023-01-02 09:45| 0.0142526590154003| measurement|{\"region\":\"Europe...|Europe/Berlin|2023-01-02|2023-01-02 10:45:00|2023-01-02|\n",
            "|04_02_111_CHR12|2023-01-02 18:45|0.07874463371047623| measurement|{\"region\":\"Europe...|Europe/Berlin|2023-01-02|2023-01-02 19:45:00|2023-01-02|\n",
            "|04_02_111_CHR12|2023-01-03 00:45| 0.1950477376343327| measurement|{\"region\":\"Europe...|Europe/Berlin|2023-01-03|2023-01-03 01:45:00|2023-01-03|\n",
            "|04_02_111_CHR12|2023-01-03 01:00| 0.1494432740331963| measurement|{\"region\":\"Europe...|Europe/Berlin|2023-01-03|2023-01-03 02:00:00|2023-01-03|\n",
            "|04_02_111_CHR12|2023-01-03 02:30|0.03338189045759885| measurement|{\"region\":\"Europe...|Europe/Berlin|2023-01-03|2023-01-03 03:30:00|2023-01-03|\n",
            "|04_02_111_CHR12|2023-01-03 03:00|0.03238495668261926| measurement|{\"region\":\"Europe...|Europe/Berlin|2023-01-03|2023-01-03 04:00:00|2023-01-03|\n",
            "|04_02_111_CHR12|2023-01-03 03:30| 0.0220772184365469| measurement|{\"region\":\"Europe...|Europe/Berlin|2023-01-03|2023-01-03 04:30:00|2023-01-03|\n",
            "|04_02_111_CHR12|2023-01-03 10:00|0.03501051495845486| measurement|{\"region\":\"Europe...|Europe/Berlin|2023-01-03|2023-01-03 11:00:00|2023-01-03|\n",
            "|04_02_111_CHR12|2023-01-03 18:30| 0.2023866001685278| measurement|{\"region\":\"Europe...|Europe/Berlin|2023-01-03|2023-01-03 19:30:00|2023-01-03|\n",
            "|04_02_111_CHR12|2023-01-04 10:30|0.01429780300596091| measurement|{\"region\":\"Europe...|Europe/Berlin|2023-01-04|2023-01-04 11:30:00|2023-01-04|\n",
            "|04_02_111_CHR12|2023-01-04 14:15|           0.203275| measurement|{\"region\":\"Europe...|Europe/Berlin|2023-01-04|2023-01-04 15:15:00|2023-01-04|\n",
            "|04_02_111_CHR12|2023-01-04 19:45|0.06086449749735329| measurement|{\"region\":\"Europe...|Europe/Berlin|2023-01-04|2023-01-04 20:45:00|2023-01-04|\n",
            "|04_02_111_CHR12|2023-01-04 21:00|0.02026097623283609| measurement|{\"region\":\"Europe...|Europe/Berlin|2023-01-04|2023-01-04 22:00:00|2023-01-04|\n",
            "|04_02_111_CHR12|2023-01-04 23:45| 0.3660749980000229| measurement|{\"region\":\"Europe...|Europe/Berlin|2023-01-04|2023-01-05 00:45:00|2023-01-05|\n",
            "|04_02_111_CHR12|2023-01-05 02:00|0.04851590576044357| measurement|{\"region\":\"Europe...|Europe/Berlin|2023-01-05|2023-01-05 03:00:00|2023-01-05|\n",
            "|04_02_111_CHR12|2023-01-05 03:45|0.03939362031461627| measurement|{\"region\":\"Europe...|Europe/Berlin|2023-01-05|2023-01-05 04:45:00|2023-01-05|\n",
            "+---------------+----------------+-------------------+------------+--------------------+-------------+----------+-------------------+----------+\n",
            "only showing top 20 rows\n",
            "\n"
          ]
        }
      ],
      "source": [
        "df_raw_time_series = df_raw_time_series.withColumn(\n",
        "    \"local_date\",\n",
        "    f.to_date(df_raw_time_series[\"local_timestamp\"])\n",
        ")\n",
        "\n",
        "df_raw_time_series.show()"
      ]
    }
  ],
  "metadata": {
    "colab": {
      "provenance": []
    },
    "kernelspec": {
      "display_name": ".venv",
      "language": "python",
      "name": "python3"
    },
    "language_info": {
      "codemirror_mode": {
        "name": "ipython",
        "version": 3
      },
      "file_extension": ".py",
      "mimetype": "text/x-python",
      "name": "python",
      "nbconvert_exporter": "python",
      "pygments_lexer": "ipython3",
      "version": "3.12.8"
    }
  },
  "nbformat": 4,
  "nbformat_minor": 0
}
